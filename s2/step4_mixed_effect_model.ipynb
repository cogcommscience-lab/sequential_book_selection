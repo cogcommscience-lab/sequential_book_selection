{
 "cells": [
  {
   "cell_type": "code",
   "execution_count": 39,
   "id": "ccb92f00-55f6-4efb-b532-2668c69fcd71",
   "metadata": {},
   "outputs": [],
   "source": [
    "import pandas as pd\n",
    "import numpy as np\n",
    "import statsmodels.api as sm\n",
    "import statsmodels.formula.api as smf"
   ]
  },
  {
   "cell_type": "code",
   "execution_count": 2,
   "id": "e649f7f9-a632-4540-82eb-21aa441a0e48",
   "metadata": {},
   "outputs": [],
   "source": []
  },
  {
   "cell_type": "code",
   "execution_count": 42,
   "id": "85dd72ae-5ee3-4383-a445-089f47b8ba71",
   "metadata": {},
   "outputs": [],
   "source": [
    "prolific_df = pd.read_csv(\"behavioral_df.csv\")\n",
    "prolific_df[\"enjoyment_before\"] = prolific_df.groupby(\"id\").enjoyment.shift()"
   ]
  },
  {
   "cell_type": "code",
   "execution_count": 43,
   "id": "10292227-03ba-4b77-9bca-8f5e0e601bf7",
   "metadata": {},
   "outputs": [
    {
     "data": {
      "text/plain": [
       "(3675, 22)"
      ]
     },
     "execution_count": 43,
     "metadata": {},
     "output_type": "execute_result"
    }
   ],
   "source": [
    "prolific_df.shape"
   ]
  },
  {
   "cell_type": "markdown",
   "id": "72683811-820d-4227-bdc1-a3528445931f",
   "metadata": {},
   "source": [
    "# Result of mixed effect model"
   ]
  },
  {
   "cell_type": "code",
   "execution_count": 44,
   "id": "ae42b96a-21d5-497f-875b-6e7ec1639151",
   "metadata": {
    "scrolled": true
   },
   "outputs": [
    {
     "name": "stdout",
     "output_type": "stream",
     "text": [
      "            Mixed Linear Model Regression Results\n",
      "=============================================================\n",
      "Model:            MixedLM Dependent Variable: step_size_after\n",
      "No. Observations: 3185    Method:             REML           \n",
      "No. Groups:       245     Scale:              16.3302        \n",
      "Min. group size:  13      Log-Likelihood:     -9072.1172     \n",
      "Max. group size:  13      Converged:          Yes            \n",
      "Mean group size:  13.0                                       \n",
      "-------------------------------------------------------------\n",
      "                  Coef.  Std.Err.    z    P>|z| [0.025 0.975]\n",
      "-------------------------------------------------------------\n",
      "Intercept          8.156    0.746  10.937 0.000  6.694  9.617\n",
      "choice_index      -0.118    0.020  -5.991 0.000 -0.156 -0.079\n",
      "step_size_before   0.278    0.018  15.261 0.000  0.242  0.314\n",
      "enjoyment         -0.577    0.034 -16.825 0.000 -0.644 -0.510\n",
      "curiosity_je       0.287    0.121   2.364 0.018  0.049  0.525\n",
      "curiosity_ts       0.158    0.108   1.469 0.142 -0.053  0.369\n",
      "curiosity_st      -0.141    0.092  -1.532 0.125 -0.320  0.039\n",
      "curiosity_sc      -0.120    0.084  -1.422 0.155 -0.285  0.045\n",
      "curiosity_ds      -0.102    0.103  -0.992 0.321 -0.304  0.100\n",
      "Group Var          1.406    0.071                            \n",
      "=============================================================\n",
      "\n"
     ]
    }
   ],
   "source": [
    "test_df = prolific_df[~prolific_df[[\"step_size_after\", \"choice_index\", \"step_size_before\", \"enjoyment\", \"curiosity_je\",\n",
    "                                    \"curiosity_ts\", \"curiosity_st\", \"curiosity_sc\", \"curiosity_ds\"]].isnull().any(axis=1)]\n",
    "md = smf.mixedlm(\"step_size_after ~ choice_index + step_size_before + enjoyment + curiosity_je + curiosity_ts + curiosity_st + curiosity_sc + curiosity_ds\", \n",
    "                 test_df, groups=test_df[\"id\"])\n",
    "mdf = md.fit()\n",
    "print(mdf.summary())"
   ]
  },
  {
   "cell_type": "code",
   "execution_count": 45,
   "id": "bcefbe6f-a9e2-461d-a629-ca337be772f6",
   "metadata": {},
   "outputs": [
    {
     "name": "stdout",
     "output_type": "stream",
     "text": [
      "                 Mixed Linear Model Regression Results\n",
      "========================================================================\n",
      "Model:                  MixedLM      Dependent Variable:      enjoyment \n",
      "No. Observations:       3430         Method:                  REML      \n",
      "No. Groups:             245          Scale:                   4.0144    \n",
      "Min. group size:        14           Log-Likelihood:          -7463.7467\n",
      "Max. group size:        14           Converged:               Yes       \n",
      "Mean group size:        14.0                                            \n",
      "------------------------------------------------------------------------\n",
      "                              Coef.  Std.Err.   z    P>|z| [0.025 0.975]\n",
      "------------------------------------------------------------------------\n",
      "Intercept                      3.721    0.437  8.512 0.000  2.864  4.578\n",
      "choice_index                   0.042    0.009  4.824 0.000  0.025  0.059\n",
      "enjoyment_before               0.075    0.019  3.935 0.000  0.038  0.113\n",
      "step_size_before              -0.100    0.037 -2.687 0.007 -0.173 -0.027\n",
      "curiosity_je                   0.183    0.084  2.191 0.028  0.019  0.347\n",
      "step_size_before:curiosity_je  0.016    0.007  2.142 0.032  0.001  0.030\n",
      "Group Var                      1.155    0.074                           \n",
      "========================================================================\n",
      "\n"
     ]
    }
   ],
   "source": [
    "test_df = prolific_df[~prolific_df[[\"choice_index\", \"enjoyment_before\", \"step_size_before\", \"curiosity_je\", \"id\"]].isnull().any(axis=1)]\n",
    "md = smf.mixedlm(\"enjoyment ~ choice_index + enjoyment_before + step_size_before * curiosity_je\", test_df, groups=test_df[\"id\"])\n",
    "mdf = md.fit()\n",
    "print(mdf.summary())"
   ]
  },
  {
   "cell_type": "code",
   "execution_count": null,
   "id": "da86b890-8c00-49b6-a7d0-efd1b7292d11",
   "metadata": {},
   "outputs": [],
   "source": []
  }
 ],
 "metadata": {
  "kernelspec": {
   "display_name": "Python 3 (ipykernel)",
   "language": "python",
   "name": "python3"
  },
  "language_info": {
   "codemirror_mode": {
    "name": "ipython",
    "version": 3
   },
   "file_extension": ".py",
   "mimetype": "text/x-python",
   "name": "python",
   "nbconvert_exporter": "python",
   "pygments_lexer": "ipython3",
   "version": "3.11.6"
  }
 },
 "nbformat": 4,
 "nbformat_minor": 5
}
