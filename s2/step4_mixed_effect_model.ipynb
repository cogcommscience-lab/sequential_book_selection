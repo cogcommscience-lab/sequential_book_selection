{
 "cells": [
  {
   "cell_type": "code",
   "execution_count": 1,
   "id": "ccb92f00-55f6-4efb-b532-2668c69fcd71",
   "metadata": {},
   "outputs": [],
   "source": [
    "import pandas as pd\n",
    "import numpy as np\n",
    "import statsmodels.api as sm\n",
    "import statsmodels.formula.api as smf"
   ]
  },
  {
   "cell_type": "code",
   "execution_count": 3,
   "id": "85dd72ae-5ee3-4383-a445-089f47b8ba71",
   "metadata": {},
   "outputs": [],
   "source": [
    "prolific_df = pd.read_csv(\"../data/s2/behavioral_df.csv\")\n",
    "prolific_df[\"enjoyment_before\"] = prolific_df.groupby(\"id\").enjoyment.shift()"
   ]
  },
  {
   "cell_type": "code",
   "execution_count": 4,
   "id": "10292227-03ba-4b77-9bca-8f5e0e601bf7",
   "metadata": {},
   "outputs": [
    {
     "data": {
      "text/plain": [
       "(3675, 22)"
      ]
     },
     "execution_count": 4,
     "metadata": {},
     "output_type": "execute_result"
    }
   ],
   "source": [
    "prolific_df.shape"
   ]
  },
  {
   "cell_type": "markdown",
   "id": "72683811-820d-4227-bdc1-a3528445931f",
   "metadata": {},
   "source": [
    "# Result of mixed effect model"
   ]
  },
  {
   "cell_type": "code",
   "execution_count": 6,
   "id": "5376811e-0f7b-4c35-8e32-b36cdcd9fb29",
   "metadata": {
    "tags": []
   },
   "outputs": [],
   "source": [
    "def fit_mxied_effect_regression_model(independent=None, dependent=None, \n",
    "                                      random_intercept=True, random_slope=True, scaled=True):\n",
    "\n",
    "    vars = independent + [dependent, \"id\"]\n",
    "    test_df =  prolific_df[vars].copy()\n",
    "    \n",
    "    for var in vars:\n",
    "        if var != \"id\":\n",
    "            test_df.loc[:, var+\"_scaled\"] = (test_df[var] - test_df[var].mean())/test_df[var].std()\n",
    "\n",
    "    if scaled == True:\n",
    "        formula = f\"{dependent}_scaled ~  {' + '.join([x+'_scaled' for x in independent])}\"\n",
    "        print(formula)\n",
    "        if random_intercept & random_slope:\n",
    "            md = smf.mixedlm(formula, \n",
    "                             test_df.dropna(), \n",
    "                              groups=test_df.dropna()[\"id\"],\n",
    "                            re_formula=f\"~ {' + '.join([x+'_scaled' for x in independent])}\")\n",
    "            \n",
    "        elif random_intercept:\n",
    "            md = smf.mixedlm(formula, \n",
    "                             test_df.dropna(), \n",
    "                              groups=test_df.dropna()[\"id\"])\n",
    "        else:\n",
    "            md = smf.mixedlm(formula, \n",
    "                             test_df.dropna())\n",
    "    else:\n",
    "        formula = f\"{dependent} ~  {' + '.join([x+'_scaled' for x in independent])}\"\n",
    "        print(formula)\n",
    "        if random_intercept & random_slope:\n",
    "            md = smf.mixedlm(formula, \n",
    "                             test_df.dropna(), \n",
    "                              groups=test_df.dropna()[\"id\"],\n",
    "                            re_formula=f\"~ {' + '.join([x+'_scaled' for x in independent])}\")\n",
    "            \n",
    "        elif random_intercept:\n",
    "            md = smf.mixedlm(formula, \n",
    "                             test_df.dropna(), \n",
    "                              groups=test_df.dropna()[\"id\"])\n",
    "        else:\n",
    "            md = smf.mixedlm(formula, \n",
    "                             test_df.dropna())\n",
    "        \n",
    "    mdf = md.fit()\n",
    "    print(mdf.summary())"
   ]
  },
  {
   "cell_type": "code",
   "execution_count": 7,
   "id": "b1759bce-d45c-4850-ad16-96aa4564a86e",
   "metadata": {
    "tags": []
   },
   "outputs": [
    {
     "name": "stdout",
     "output_type": "stream",
     "text": [
      "enjoyment_scaled ~  choice_index_scaled\n",
      "                 Mixed Linear Model Regression Results\n",
      "========================================================================\n",
      "Model:                MixedLM    Dependent Variable:    enjoyment_scaled\n",
      "No. Observations:     3675       Method:                REML            \n",
      "No. Groups:           245        Scale:                 0.7081          \n",
      "Min. group size:      15         Log-Likelihood:        -4852.2878      \n",
      "Max. group size:      15         Converged:             Yes             \n",
      "Mean group size:      15.0                                              \n",
      "------------------------------------------------------------------------\n",
      "                                Coef. Std.Err.   z   P>|z| [0.025 0.975]\n",
      "------------------------------------------------------------------------\n",
      "Intercept                       0.000    0.035 0.000 1.000 -0.069  0.069\n",
      "choice_index_scaled             0.107    0.017 6.274 0.000  0.073  0.140\n",
      "Group Var                       0.258    0.034                          \n",
      "Group x choice_index_scaled Cov 0.044    0.012                          \n",
      "choice_index_scaled Var         0.024    0.008                          \n",
      "========================================================================\n",
      "\n"
     ]
    }
   ],
   "source": [
    "fit_mxied_effect_regression_model(independent=[\"choice_index\"], dependent=\"enjoyment\", \n",
    "                                      random_intercept=True, random_slope=True, scaled=True)"
   ]
  },
  {
   "cell_type": "code",
   "execution_count": 8,
   "id": "979592c6-1a4d-4a23-9c6e-c73f7c77eb77",
   "metadata": {
    "tags": []
   },
   "outputs": [
    {
     "name": "stdout",
     "output_type": "stream",
     "text": [
      "step_size_after_scaled ~  choice_index_scaled\n",
      "                  Mixed Linear Model Regression Results\n",
      "==========================================================================\n",
      "Model:              MixedLM   Dependent Variable:   step_size_after_scaled\n",
      "No. Observations:   3430      Method:               REML                  \n",
      "No. Groups:         245       Scale:                0.7218                \n",
      "Min. group size:    14        Log-Likelihood:       -4592.8306            \n",
      "Max. group size:    14        Converged:            Yes                   \n",
      "Mean group size:    14.0                                                  \n",
      "--------------------------------------------------------------------------\n",
      "                                Coef.  Std.Err.   z    P>|z| [0.025 0.975]\n",
      "--------------------------------------------------------------------------\n",
      "Intercept                       -0.023    0.031 -0.733 0.464 -0.083  0.038\n",
      "choice_index_scaled             -0.195    0.023 -8.419 0.000 -0.240 -0.149\n",
      "Group Var                        0.179    0.026                           \n",
      "Group x choice_index_scaled Cov -0.017    0.013                           \n",
      "choice_index_scaled Var          0.072    0.015                           \n",
      "==========================================================================\n",
      "\n"
     ]
    }
   ],
   "source": [
    "fit_mxied_effect_regression_model(independent=[\"choice_index\"], dependent=\"step_size_after\", \n",
    "                                      random_intercept=True, random_slope=True, scaled=True)"
   ]
  },
  {
   "cell_type": "code",
   "execution_count": 9,
   "id": "21ce2db8-8310-4944-96ea-274790b303d4",
   "metadata": {
    "tags": []
   },
   "outputs": [
    {
     "name": "stdout",
     "output_type": "stream",
     "text": [
      "step_size_after_scaled ~  enjoyment_scaled\n",
      "                 Mixed Linear Model Regression Results\n",
      "========================================================================\n",
      "Model:              MixedLM  Dependent Variable:  step_size_after_scaled\n",
      "No. Observations:   3430     Method:              REML                  \n",
      "No. Groups:         245      Scale:               0.7242                \n",
      "Min. group size:    14       Log-Likelihood:      -4512.5258            \n",
      "Max. group size:    14       Converged:           Yes                   \n",
      "Mean group size:    14.0                                                \n",
      "------------------------------------------------------------------------\n",
      "                             Coef.  Std.Err.    z    P>|z| [0.025 0.975]\n",
      "------------------------------------------------------------------------\n",
      "Intercept                    -0.004    0.029  -0.123 0.902 -0.061  0.054\n",
      "enjoyment_scaled             -0.335    0.019 -17.584 0.000 -0.372 -0.298\n",
      "Group Var                     0.155    0.023                            \n",
      "Group x enjoyment_scaled Cov  0.028    0.011                            \n",
      "enjoyment_scaled Var          0.020    0.009                            \n",
      "========================================================================\n",
      "\n"
     ]
    }
   ],
   "source": [
    "fit_mxied_effect_regression_model(independent=[\"enjoyment\"], dependent=\"step_size_after\", \n",
    "                                      random_intercept=True, random_slope=True, scaled=True)"
   ]
  },
  {
   "cell_type": "code",
   "execution_count": 10,
   "id": "da86b890-8c00-49b6-a7d0-efd1b7292d11",
   "metadata": {},
   "outputs": [
    {
     "name": "stdout",
     "output_type": "stream",
     "text": [
      "                        Mixed Linear Model Regression Results\n",
      "======================================================================================\n",
      "Model:                  MixedLM       Dependent Variable:       step_size_after_scaled\n",
      "No. Observations:       3430          Method:                   REML                  \n",
      "No. Groups:             245           Scale:                    0.6459                \n",
      "Min. group size:        14            Log-Likelihood:           -4426.8713            \n",
      "Max. group size:        14            Converged:                Yes                   \n",
      "Mean group size:        14.0                                                          \n",
      "--------------------------------------------------------------------------------------\n",
      "                                           Coef.  Std.Err.    z    P>|z| [0.025 0.975]\n",
      "--------------------------------------------------------------------------------------\n",
      "Intercept                                  -0.021    0.029  -0.745 0.456 -0.077  0.035\n",
      "choice_index_scaled                        -0.154    0.022  -6.997 0.000 -0.197 -0.111\n",
      "enjoyment_scaled                           -0.315    0.018 -17.383 0.000 -0.351 -0.280\n",
      "curiosity_je_scaled                         0.082    0.035   2.319 0.020  0.013  0.151\n",
      "curiosity_ds_scaled                        -0.041    0.033  -1.260 0.208 -0.106  0.023\n",
      "curiosity_st_scaled                        -0.039    0.034  -1.120 0.263 -0.106  0.029\n",
      "curiosity_sc_scaled                        -0.040    0.031  -1.304 0.192 -0.101  0.020\n",
      "curiosity_ts_scaled                         0.021    0.036   0.585 0.559 -0.050  0.092\n",
      "Group Var                                   0.151    0.024                            \n",
      "Group x choice_index_scaled Cov            -0.027    0.012                            \n",
      "choice_index_scaled Var                     0.064    0.014                            \n",
      "Group x enjoyment_scaled Cov                0.024    0.010                            \n",
      "choice_index_scaled x enjoyment_scaled Cov -0.001    0.008                            \n",
      "enjoyment_scaled Var                        0.014    0.009                            \n",
      "======================================================================================\n",
      "\n"
     ]
    }
   ],
   "source": [
    "vars = [\"id\", \n",
    "        \"choice_index\", \n",
    "        \"step_size_after\",\n",
    "       \"enjoyment\",\n",
    "       'curiosity_je', 'curiosity_ds',\n",
    "       'curiosity_st', 'curiosity_sc', 'curiosity_ts']\n",
    "\n",
    "test_df = prolific_df[vars].copy()\n",
    "\n",
    "for var in [\"step_size_after\", \"choice_index\", \"enjoyment\", 'curiosity_je', 'curiosity_ds',\n",
    "       'curiosity_st', 'curiosity_sc', 'curiosity_ts']:\n",
    "    test_df.loc[:, var+\"_scaled\"] = (test_df[var] - test_df[var].mean())/test_df[var].std()\n",
    "\n",
    "md = smf.mixedlm(\"step_size_after_scaled ~  choice_index_scaled + enjoyment_scaled + curiosity_je_scaled + curiosity_ds_scaled\" +\n",
    "                 \" + curiosity_st_scaled + curiosity_sc_scaled + curiosity_ts_scaled\", \n",
    "                 test_df.dropna(), \n",
    "                  groups=test_df.dropna()[\"id\"],\n",
    "                 re_formula=\"~ choice_index_scaled + enjoyment_scaled\")\n",
    "mdf = md.fit()\n",
    "print(mdf.summary())"
   ]
  },
  {
   "cell_type": "code",
   "execution_count": 12,
   "id": "a6e5c9d0-149d-436f-a906-f3bac7c92155",
   "metadata": {
    "tags": []
   },
   "outputs": [
    {
     "name": "stdout",
     "output_type": "stream",
     "text": [
      "                        Mixed Linear Model Regression Results\n",
      "======================================================================================\n",
      "Model:                    MixedLM         Dependent Variable:         enjoyment_scaled\n",
      "No. Observations:         3430            Method:                     REML            \n",
      "No. Groups:               245             Scale:                      0.6942          \n",
      "Min. group size:          14              Log-Likelihood:             -4499.6649      \n",
      "Max. group size:          14              Converged:                  Yes             \n",
      "Mean group size:          14.0                                                        \n",
      "--------------------------------------------------------------------------------------\n",
      "                                            Coef.  Std.Err.   z    P>|z| [0.025 0.975]\n",
      "--------------------------------------------------------------------------------------\n",
      "Intercept                                    0.008    0.034  0.238 0.812 -0.059  0.076\n",
      "choice_index_scaled                          0.083    0.018  4.625 0.000  0.048  0.118\n",
      "step_size_before_scaled                     -0.058    0.017 -3.534 0.000 -0.091 -0.026\n",
      "curiosity_je_scaled                          0.146    0.034  4.347 0.000  0.080  0.212\n",
      "step_size_before_scaled:curiosity_je_scaled  0.033    0.017  1.990 0.047  0.001  0.066\n",
      "Group Var                                    0.239    0.033                           \n",
      "Group x choice_index_scaled Cov              0.037    0.012                           \n",
      "choice_index_scaled Var                      0.019    0.009                           \n",
      "======================================================================================\n",
      "\n",
      "9064.452349601623\n"
     ]
    }
   ],
   "source": [
    "vars = [\"id\", \n",
    "        \"choice_index\", \n",
    "        \"step_size_before\",\n",
    "       \"enjoyment\", \n",
    "       'curiosity_je', 'curiosity_ds',\n",
    "       'curiosity_st', 'curiosity_sc', 'curiosity_ts']\n",
    "\n",
    "test_df = prolific_df[vars].copy()\n",
    "\n",
    "for var in [\"step_size_before\", \"choice_index\", \"enjoyment\", 'curiosity_je']:\n",
    "    test_df.loc[:, var+\"_scaled\"] = (test_df[var] - test_df[var].mean())/test_df[var].std()\n",
    "\n",
    "md = smf.mixedlm(\"enjoyment_scaled ~  choice_index_scaled + step_size_before_scaled  + curiosity_je_scaled \" +\n",
    "                 \" + step_size_before_scaled:curiosity_je_scaled\", \n",
    "                 test_df.dropna(), \n",
    "                  groups=test_df.dropna()[\"id\"],\n",
    "                 re_formula=\"~ choice_index_scaled \")\n",
    "mdf = md.fit()\n",
    "print(mdf.summary())\n",
    "print(-2 * mdf.llf + np.log(mdf.nobs) * (mdf.df_modelwc))"
   ]
  }
 ],
 "metadata": {
  "kernelspec": {
   "display_name": "Python 3 (ipykernel)",
   "language": "python",
   "name": "python3"
  },
  "language_info": {
   "codemirror_mode": {
    "name": "ipython",
    "version": 3
   },
   "file_extension": ".py",
   "mimetype": "text/x-python",
   "name": "python",
   "nbconvert_exporter": "python",
   "pygments_lexer": "ipython3",
   "version": "3.11.6"
  }
 },
 "nbformat": 4,
 "nbformat_minor": 5
}
