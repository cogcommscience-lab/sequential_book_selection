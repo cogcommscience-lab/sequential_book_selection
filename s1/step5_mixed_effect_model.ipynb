{
 "cells": [
  {
   "cell_type": "code",
   "execution_count": 2,
   "id": "58763063-0488-45dd-a190-7b0b3d7172ac",
   "metadata": {},
   "outputs": [],
   "source": [
    "import pandas as pd\n",
    "import numpy as np\n",
    "import statsmodels.api as sm\n",
    "import statsmodels.formula.api as smf"
   ]
  },
  {
   "cell_type": "code",
   "execution_count": 8,
   "id": "3e910535-b7fb-42a4-a1d0-f4324fd0d8d2",
   "metadata": {
    "tags": []
   },
   "outputs": [],
   "source": [
    "def fit_mxied_effect_regression_model(independent=None, dependent=None, \n",
    "                                      random_intercept=True, random_slope=True, scaled=True):\n",
    "\n",
    "    vars = independent + [dependent, \"reviewerID\"]\n",
    "    test_df =  df[vars].copy()\n",
    "    \n",
    "    for var in vars:\n",
    "        if var != \"reviewerID\":\n",
    "            test_df.loc[:, var+\"_scaled\"] = (test_df[var] - test_df[var].mean())/test_df[var].std()\n",
    "\n",
    "    if scaled == True:\n",
    "        formula = f\"{dependent}_scaled ~  {' + '.join([x+'_scaled' for x in independent])}\"\n",
    "        print(formula)\n",
    "        if random_intercept & random_slope:\n",
    "            md = smf.mixedlm(formula, \n",
    "                             test_df.dropna(), \n",
    "                              groups=test_df.dropna()[\"reviewerID\"],\n",
    "                            re_formula=f\"~ {' + '.join([x+'_scaled' for x in independent])}\")\n",
    "            \n",
    "        elif random_intercept:\n",
    "            md = smf.mixedlm(formula, \n",
    "                             test_df.dropna(), \n",
    "                              groups=test_df.dropna()[\"reviewerID\"])\n",
    "        else:\n",
    "            md = smf.mixedlm(formula, \n",
    "                             test_df.dropna())\n",
    "    else:\n",
    "        formula = f\"{dependent} ~  {' + '.join([x+'_scaled' for x in independent])}\"\n",
    "        print(formula)\n",
    "        if random_intercept & random_slope:\n",
    "            md = smf.mixedlm(formula, \n",
    "                             test_df.dropna(), \n",
    "                              groups=test_df.dropna()[\"reviewerID\"],\n",
    "                            re_formula=f\"~ {' + '.join([x+'_scaled' for x in independent])}\")\n",
    "            \n",
    "        elif random_intercept:\n",
    "            md = smf.mixedlm(formula, \n",
    "                             test_df.dropna(), \n",
    "                              groups=test_df.dropna()[\"reviewerID\"])\n",
    "        else:\n",
    "            md = smf.mixedlm(formula, \n",
    "                             test_df.dropna())\n",
    "        \n",
    "    mdf = md.fit()\n",
    "    print(mdf.summary())"
   ]
  },
  {
   "cell_type": "code",
   "execution_count": 5,
   "id": "85dd72ae-5ee3-4383-a445-089f47b8ba71",
   "metadata": {},
   "outputs": [],
   "source": [
    "df = pd.read_csv(\"../s1/s1_stats_test_final.csv\")"
   ]
  },
  {
   "cell_type": "markdown",
   "id": "40a2b241-e419-4771-a57f-ce3f2dce79f1",
   "metadata": {},
   "source": [
    "# Testing Bivariate relationship"
   ]
  },
  {
   "cell_type": "markdown",
   "id": "1528d212-ffb8-4f3a-87d3-644df757fa19",
   "metadata": {},
   "source": [
    "$$\n",
    "Rating_{i,j} \\sim \\beta_{0} + \\beta_{1} * Number\\_of\\_past\\_readings_{i,j} + \\gamma_{0,j} + \\gamma_{1,j} * Number\\_of\\_past\\_readings_{i,j} + \\epsilon_{i,j}\n",
    "$$"
   ]
  },
  {
   "cell_type": "code",
   "execution_count": 9,
   "id": "b38cfec9-7a99-440c-a5c8-43f87df2b5da",
   "metadata": {},
   "outputs": [
    {
     "name": "stdout",
     "output_type": "stream",
     "text": [
      "overall_scaled ~  order_scaled\n",
      "              Mixed Linear Model Regression Results\n",
      "==================================================================\n",
      "Model:              MixedLM   Dependent Variable:   overall_scaled\n",
      "No. Observations:   2083630   Method:               REML          \n",
      "No. Groups:         35478     Scale:                0.6875        \n",
      "Min. group size:    21        Log-Likelihood:       -2632042.3127 \n",
      "Max. group size:    298       Converged:            Yes           \n",
      "Mean group size:    58.7                                          \n",
      "------------------------------------------------------------------\n",
      "                         Coef. Std.Err.   z    P>|z| [0.025 0.975]\n",
      "------------------------------------------------------------------\n",
      "Intercept                0.017    0.003  5.383 0.000  0.011  0.024\n",
      "order_scaled             0.052    0.002 25.362 0.000  0.048  0.056\n",
      "Group Var                0.327    0.003                           \n",
      "Group x order_scaled Cov 0.027    0.002                           \n",
      "order_scaled Var         0.044    0.001                           \n",
      "==================================================================\n",
      "\n"
     ]
    }
   ],
   "source": [
    "fit_mxied_effect_regression_model(dependent=\"overall\", independent=[\"order\"], \n",
    "                                  random_slope=True, random_intercept=True, scaled=True)"
   ]
  },
  {
   "cell_type": "code",
   "execution_count": 10,
   "id": "87cdc14e-b1d9-44ed-8655-829d581b31da",
   "metadata": {},
   "outputs": [
    {
     "name": "stdout",
     "output_type": "stream",
     "text": [
      "avg_rating_scaled ~  order_scaled\n",
      "              Mixed Linear Model Regression Results\n",
      "==================================================================\n",
      "Model:             MixedLM  Dependent Variable:  avg_rating_scaled\n",
      "No. Observations:  2083630  Method:              REML             \n",
      "No. Groups:        35478    Scale:               0.8888           \n",
      "Min. group size:   21       Log-Likelihood:      -2874377.7958    \n",
      "Max. group size:   298      Converged:           Yes              \n",
      "Mean group size:   58.7                                           \n",
      "------------------------------------------------------------------\n",
      "                         Coef. Std.Err.   z    P>|z| [0.025 0.975]\n",
      "------------------------------------------------------------------\n",
      "Intercept                0.036    0.002 17.521 0.000  0.032  0.041\n",
      "order_scaled             0.114    0.002 60.481 0.000  0.110  0.117\n",
      "Group Var                0.112    0.001                           \n",
      "Group x order_scaled Cov 0.005    0.001                           \n",
      "order_scaled Var         0.019    0.001                           \n",
      "==================================================================\n",
      "\n"
     ]
    }
   ],
   "source": [
    "fit_mxied_effect_regression_model(dependent=\"avg_rating\", independent=[\"order\"], \n",
    "                                  random_slope=True, random_intercept=True, scaled=True)"
   ]
  },
  {
   "cell_type": "markdown",
   "id": "800ff270-1f3d-4339-a075-f5913e04362c",
   "metadata": {},
   "source": [
    "$$\n",
    "Step\\_size_{i,j} \\sim \\beta_{0} + \\beta_{1} * Number\\_of\\_past\\_readings_{i,j} + \\gamma_{0,j} + \\gamma_{1,j} * Number\\_of\\_past\\_readings_{i,j} + \\epsilon_{i,j}\n",
    "$$"
   ]
  },
  {
   "cell_type": "code",
   "execution_count": 11,
   "id": "0c0d8cd5-33e2-4c36-a0bd-2cd4d8681711",
   "metadata": {},
   "outputs": [
    {
     "name": "stdout",
     "output_type": "stream",
     "text": [
      "step_size_after_scaled ~  order_scaled\n",
      "               Mixed Linear Model Regression Results\n",
      "====================================================================\n",
      "Model:            MixedLM Dependent Variable: step_size_after_scaled\n",
      "No. Observations: 2048152 Method:             REML                  \n",
      "No. Groups:       35478   Scale:              0.8931                \n",
      "Min. group size:  20      Log-Likelihood:     -2829205.6124         \n",
      "Max. group size:  297     Converged:          Yes                   \n",
      "Mean group size:  57.7                                              \n",
      "--------------------------------------------------------------------\n",
      "                          Coef.  Std.Err.   z    P>|z| [0.025 0.975]\n",
      "--------------------------------------------------------------------\n",
      "Intercept                  0.004    0.002  2.236 0.025  0.001  0.008\n",
      "order_scaled              -0.009    0.002 -5.289 0.000 -0.013 -0.006\n",
      "Group Var                  0.100    0.001                           \n",
      "Group x order_scaled Cov   0.002    0.001                           \n",
      "order_scaled Var           0.020    0.001                           \n",
      "====================================================================\n",
      "\n"
     ]
    }
   ],
   "source": [
    "fit_mxied_effect_regression_model(dependent=\"step_size_after\", independent=[\"order\"], \n",
    "                                  random_slope=True, random_intercept=True, scaled=True)"
   ]
  },
  {
   "cell_type": "markdown",
   "id": "1ddd394f-73e2-4673-80f9-78dc65792333",
   "metadata": {},
   "source": [
    "$$\n",
    "Step\\_size_{i,j} \\sim \\beta_{0} + \\beta_{1} * Previous\\_rating_{i,j} + \\gamma_{0,j} + \\gamma_{1,j} * Previous\\_rating_{i,j} + \\epsilon_{i,j}\n",
    "$$"
   ]
  },
  {
   "cell_type": "code",
   "execution_count": 12,
   "id": "0940cef2-839e-4a2c-8c0a-f352514257db",
   "metadata": {},
   "outputs": [
    {
     "name": "stdout",
     "output_type": "stream",
     "text": [
      "step_size_after_scaled ~  overall_scaled\n"
     ]
    },
    {
     "name": "stderr",
     "output_type": "stream",
     "text": [
      "/home/jasongong/anaconda3/envs/dissertation/lib/python3.11/site-packages/statsmodels/regression/mixed_linear_model.py:2238: ConvergenceWarning: The MLE may be on the boundary of the parameter space.\n",
      "  warnings.warn(msg, ConvergenceWarning)\n"
     ]
    },
    {
     "name": "stdout",
     "output_type": "stream",
     "text": [
      "                Mixed Linear Model Regression Results\n",
      "======================================================================\n",
      "Model:              MixedLM Dependent Variable: step_size_after_scaled\n",
      "No. Observations:   2048152 Method:             REML                  \n",
      "No. Groups:         35478   Scale:              0.8968                \n",
      "Min. group size:    20      Log-Likelihood:     -2829410.6689         \n",
      "Max. group size:    297     Converged:          Yes                   \n",
      "Mean group size:    57.7                                              \n",
      "----------------------------------------------------------------------\n",
      "                           Coef.  Std.Err.    z    P>|z| [0.025 0.975]\n",
      "----------------------------------------------------------------------\n",
      "Intercept                   0.012    0.002   6.415 0.000  0.008  0.015\n",
      "overall_scaled             -0.040    0.001 -47.310 0.000 -0.042 -0.039\n",
      "Group Var                   0.098    0.001                            \n",
      "Group x overall_scaled Cov  0.007    0.000                            \n",
      "overall_scaled Var          0.002    0.000                            \n",
      "======================================================================\n",
      "\n"
     ]
    }
   ],
   "source": [
    "fit_mxied_effect_regression_model(dependent=\"step_size_after\", independent=[\"overall\"], \n",
    "                                  random_slope=True, random_intercept=True, scaled=True)"
   ]
  },
  {
   "cell_type": "markdown",
   "id": "cebb0bb4-7019-4a00-81f6-bc18b201f5e9",
   "metadata": {},
   "source": [
    "$$\n",
    "Step\\_size_{i,j} \\sim \\beta_{0} + \\beta_{1} * Rating\\_variance_{i,j} + \\gamma_{0,j} + \\gamma_{1,j} * Rating\\_variance_{i,j} + \\epsilon_{i,j}\n",
    "$$"
   ]
  },
  {
   "cell_type": "code",
   "execution_count": 13,
   "id": "b1e3a696-e443-435f-9302-57f1039197f9",
   "metadata": {},
   "outputs": [
    {
     "name": "stdout",
     "output_type": "stream",
     "text": [
      "step_size_after_scaled ~  rating_dispersion_scaled\n"
     ]
    },
    {
     "name": "stderr",
     "output_type": "stream",
     "text": [
      "/home/jasongong/anaconda3/envs/dissertation/lib/python3.11/site-packages/statsmodels/base/model.py:607: ConvergenceWarning: Maximum Likelihood optimization failed to converge. Check mle_retvals\n",
      "  warnings.warn(\"Maximum Likelihood optimization failed to \"\n",
      "/home/jasongong/anaconda3/envs/dissertation/lib/python3.11/site-packages/statsmodels/regression/mixed_linear_model.py:2201: ConvergenceWarning: Retrying MixedLM optimization with lbfgs\n",
      "  warnings.warn(\n",
      "/home/jasongong/anaconda3/envs/dissertation/lib/python3.11/site-packages/statsmodels/base/model.py:607: ConvergenceWarning: Maximum Likelihood optimization failed to converge. Check mle_retvals\n",
      "  warnings.warn(\"Maximum Likelihood optimization failed to \"\n",
      "/home/jasongong/anaconda3/envs/dissertation/lib/python3.11/site-packages/statsmodels/regression/mixed_linear_model.py:2201: ConvergenceWarning: Retrying MixedLM optimization with cg\n",
      "  warnings.warn(\n",
      "/home/jasongong/anaconda3/envs/dissertation/lib/python3.11/site-packages/statsmodels/base/model.py:607: ConvergenceWarning: Maximum Likelihood optimization failed to converge. Check mle_retvals\n",
      "  warnings.warn(\"Maximum Likelihood optimization failed to \"\n",
      "/home/jasongong/anaconda3/envs/dissertation/lib/python3.11/site-packages/statsmodels/regression/mixed_linear_model.py:2207: ConvergenceWarning: MixedLM optimization failed, trying a different optimizer may help.\n",
      "  warnings.warn(msg, ConvergenceWarning)\n",
      "/home/jasongong/anaconda3/envs/dissertation/lib/python3.11/site-packages/statsmodels/regression/mixed_linear_model.py:2219: ConvergenceWarning: Gradient optimization failed, |grad| = 86108.353830\n",
      "  warnings.warn(msg, ConvergenceWarning)\n",
      "/home/jasongong/anaconda3/envs/dissertation/lib/python3.11/site-packages/statsmodels/regression/mixed_linear_model.py:2262: ConvergenceWarning: The Hessian matrix at the estimated parameter values is not positive definite.\n",
      "  warnings.warn(msg, ConvergenceWarning)\n"
     ]
    },
    {
     "name": "stdout",
     "output_type": "stream",
     "text": [
      "                    Mixed Linear Model Regression Results\n",
      "==============================================================================\n",
      "Model:                MixedLM    Dependent Variable:    step_size_after_scaled\n",
      "No. Observations:     2027407    Method:                REML                  \n",
      "No. Groups:           35478      Scale:                 0.8886                \n",
      "Min. group size:      4          Log-Likelihood:        -2815038.8817         \n",
      "Max. group size:      296        Converged:             No                    \n",
      "Mean group size:      57.1                                                    \n",
      "------------------------------------------------------------------------------\n",
      "                                     Coef. Std.Err.   z    P>|z| [0.025 0.975]\n",
      "------------------------------------------------------------------------------\n",
      "Intercept                            0.010    0.001  6.813 0.000  0.007  0.013\n",
      "rating_dispersion_scaled             0.026    0.002 12.550 0.000  0.022  0.030\n",
      "Group Var                            0.054    0.000                           \n",
      "Group x rating_dispersion_scaled Cov 0.001    0.001                           \n",
      "rating_dispersion_scaled Var         0.126                                    \n",
      "==============================================================================\n",
      "\n"
     ]
    }
   ],
   "source": [
    "fit_mxied_effect_regression_model(dependent=\"step_size_after\", independent=[\"rating_dispersion\"], \n",
    "                                  random_slope=True, random_intercept=True, scaled=True)"
   ]
  },
  {
   "cell_type": "markdown",
   "id": "24697e7b-98dd-46dc-9fa8-c786f53db71f",
   "metadata": {},
   "source": [
    "$$\n",
    "Step\\_size_{i,j} \\sim \\beta_{0} + \\beta_{1} * Log\\_Rating\\_count_{i,j} + \\gamma_{0,j} + \\gamma_{1,j} * Log\\_Rating\\_count_{i,j} + \\epsilon_{i,j}\n",
    "$$"
   ]
  },
  {
   "cell_type": "code",
   "execution_count": 27,
   "id": "f9a72eb0-3538-426e-a6ec-8d190c43861a",
   "metadata": {},
   "outputs": [],
   "source": [
    "df[\"review_count_log_after\"] = np.log(df.groupby('reviewerID')['review_count'].shift(-1)+0.001)"
   ]
  },
  {
   "cell_type": "code",
   "execution_count": 28,
   "id": "3914b6e0-5dbd-4906-b8aa-4819f39b5491",
   "metadata": {},
   "outputs": [
    {
     "name": "stdout",
     "output_type": "stream",
     "text": [
      "step_size_after_scaled ~  review_count_log_after_scaled\n"
     ]
    },
    {
     "name": "stderr",
     "output_type": "stream",
     "text": [
      "/home/jasongong/anaconda3/envs/dissertation/lib/python3.11/site-packages/statsmodels/regression/mixed_linear_model.py:2238: ConvergenceWarning: The MLE may be on the boundary of the parameter space.\n",
      "  warnings.warn(msg, ConvergenceWarning)\n"
     ]
    },
    {
     "name": "stdout",
     "output_type": "stream",
     "text": [
      "                        Mixed Linear Model Regression Results\n",
      "=====================================================================================\n",
      "Model:                   MixedLM      Dependent Variable:      step_size_after_scaled\n",
      "No. Observations:        2048152      Method:                  REML                  \n",
      "No. Groups:              35478        Scale:                   0.8916                \n",
      "Min. group size:         20           Log-Likelihood:          -2826892.2009         \n",
      "Max. group size:         297          Converged:               Yes                   \n",
      "Mean group size:         57.7                                                        \n",
      "-------------------------------------------------------------------------------------\n",
      "                                          Coef.  Std.Err.    z    P>|z| [0.025 0.975]\n",
      "-------------------------------------------------------------------------------------\n",
      "Intercept                                  0.011    0.002   5.971 0.000  0.007  0.014\n",
      "review_count_log_after_scaled             -0.053    0.001 -52.610 0.000 -0.055 -0.051\n",
      "Group Var                                  0.096    0.001                            \n",
      "Group x review_count_log_after_scaled Cov -0.004    0.000                            \n",
      "review_count_log_after_scaled Var          0.008    0.000                            \n",
      "=====================================================================================\n",
      "\n"
     ]
    }
   ],
   "source": [
    "fit_mxied_effect_regression_model(dependent=\"step_size_after\", independent=[\"review_count_log_after\"],\n",
    "                                  random_slope=True, random_intercept=True, scaled=True)"
   ]
  },
  {
   "cell_type": "markdown",
   "id": "5e7becba-3a53-4b69-a805-64d619b1e719",
   "metadata": {},
   "source": [
    "$$\n",
    "\\begin{align}\n",
    "Step\\_size_{i,j} \\sim \\beta_{0} + \\beta_{1} * Number\\_of\\_past\\_readings_{i,j}  + \\beta_{2} * Previous\\_rating_{i,j} \\\\\n",
    "+ \\beta_{3} * Rating\\_variance_{i,j} + \\beta_{4} * Log\\_Rating\\_count_{i,j} \\\\\n",
    "+ \\gamma_{0,j} + \\gamma_{1,j} * Number\\_of\\_past\\_readings_{i,j} + \\gamma_{2,j} * Previous\\_rating_{i,j}\\\\\n",
    "+ \\gamma_{3,j} * Rating\\_variance_{i,j} + \\gamma_{4,j} * Log\\_Rating\\_count_{i,j} \\\\\n",
    "+ \\epsilon_{i,j}\n",
    "\\end{align}\n",
    "$$"
   ]
  },
  {
   "cell_type": "code",
   "execution_count": 29,
   "id": "dc1f2357-5ea6-49e3-b54c-236b85c04a4d",
   "metadata": {},
   "outputs": [
    {
     "name": "stdout",
     "output_type": "stream",
     "text": [
      "step_size_after_scaled ~  order_scaled + overall_scaled + rating_dispersion_scaled + review_count_log_after_scaled\n"
     ]
    },
    {
     "name": "stderr",
     "output_type": "stream",
     "text": [
      "/home/jasongong/anaconda3/envs/dissertation/lib/python3.11/site-packages/statsmodels/base/model.py:607: ConvergenceWarning: Maximum Likelihood optimization failed to converge. Check mle_retvals\n",
      "  warnings.warn(\"Maximum Likelihood optimization failed to \"\n",
      "/home/jasongong/anaconda3/envs/dissertation/lib/python3.11/site-packages/statsmodels/regression/mixed_linear_model.py:2201: ConvergenceWarning: Retrying MixedLM optimization with lbfgs\n",
      "  warnings.warn(\n",
      "/home/jasongong/anaconda3/envs/dissertation/lib/python3.11/site-packages/statsmodels/base/model.py:607: ConvergenceWarning: Maximum Likelihood optimization failed to converge. Check mle_retvals\n",
      "  warnings.warn(\"Maximum Likelihood optimization failed to \"\n",
      "/home/jasongong/anaconda3/envs/dissertation/lib/python3.11/site-packages/statsmodels/regression/mixed_linear_model.py:2201: ConvergenceWarning: Retrying MixedLM optimization with cg\n",
      "  warnings.warn(\n",
      "/home/jasongong/anaconda3/envs/dissertation/lib/python3.11/site-packages/statsmodels/base/model.py:607: ConvergenceWarning: Maximum Likelihood optimization failed to converge. Check mle_retvals\n",
      "  warnings.warn(\"Maximum Likelihood optimization failed to \"\n",
      "/home/jasongong/anaconda3/envs/dissertation/lib/python3.11/site-packages/statsmodels/regression/mixed_linear_model.py:2207: ConvergenceWarning: MixedLM optimization failed, trying a different optimizer may help.\n",
      "  warnings.warn(msg, ConvergenceWarning)\n",
      "/home/jasongong/anaconda3/envs/dissertation/lib/python3.11/site-packages/statsmodels/regression/mixed_linear_model.py:2219: ConvergenceWarning: Gradient optimization failed, |grad| = 100619.602390\n",
      "  warnings.warn(msg, ConvergenceWarning)\n",
      "/home/jasongong/anaconda3/envs/dissertation/lib/python3.11/site-packages/statsmodels/regression/mixed_linear_model.py:2238: ConvergenceWarning: The MLE may be on the boundary of the parameter space.\n",
      "  warnings.warn(msg, ConvergenceWarning)\n",
      "/home/jasongong/anaconda3/envs/dissertation/lib/python3.11/site-packages/statsmodels/regression/mixed_linear_model.py:2262: ConvergenceWarning: The Hessian matrix at the estimated parameter values is not positive definite.\n",
      "  warnings.warn(msg, ConvergenceWarning)\n"
     ]
    },
    {
     "name": "stdout",
     "output_type": "stream",
     "text": [
      "                                 Mixed Linear Model Regression Results\n",
      "========================================================================================================\n",
      "Model:                        MixedLM             Dependent Variable:             step_size_after_scaled\n",
      "No. Observations:             2027407             Method:                         REML                  \n",
      "No. Groups:                   35478               Scale:                          0.8777                \n",
      "Min. group size:              4                   Log-Likelihood:                 -2844426.4288         \n",
      "Max. group size:              296                 Converged:                      No                    \n",
      "Mean group size:              57.1                                                                      \n",
      "--------------------------------------------------------------------------------------------------------\n",
      "                                                             Coef.  Std.Err.    z    P>|z| [0.025 0.975]\n",
      "--------------------------------------------------------------------------------------------------------\n",
      "Intercept                                                     0.015                                     \n",
      "order_scaled                                                 -0.023    0.002  -9.900 0.000 -0.027 -0.018\n",
      "overall_scaled                                               -0.068    0.001 -63.305 0.000 -0.070 -0.066\n",
      "rating_dispersion_scaled                                      0.016    0.002   8.024 0.000  0.012  0.020\n",
      "review_count_log_after_scaled                                -0.068    0.002 -37.673 0.000 -0.072 -0.065\n",
      "Group Var                                                     0.001                                     \n",
      "Group x order_scaled Cov                                     -0.007    0.000                            \n",
      "order_scaled Var                                              0.097    0.002                            \n",
      "Group x overall_scaled Cov                                    0.001                                     \n",
      "order_scaled x overall_scaled Cov                            -0.013                                     \n",
      "overall_scaled Var                                            0.051                                     \n",
      "Group x rating_dispersion_scaled Cov                         -0.000    0.000                            \n",
      "order_scaled x rating_dispersion_scaled Cov                   0.002    0.002                            \n",
      "overall_scaled x rating_dispersion_scaled Cov                -0.004                                     \n",
      "rating_dispersion_scaled Var                                  0.117                                     \n",
      "Group x review_count_log_after_scaled Cov                     0.001    0.000                            \n",
      "order_scaled x review_count_log_after_scaled Cov             -0.005    0.001                            \n",
      "overall_scaled x review_count_log_after_scaled Cov            0.001                                     \n",
      "rating_dispersion_scaled x review_count_log_after_scaled Cov -0.000                                     \n",
      "review_count_log_after_scaled Var                             0.081                                     \n",
      "========================================================================================================\n",
      "\n"
     ]
    },
    {
     "name": "stderr",
     "output_type": "stream",
     "text": [
      "/home/jasongong/anaconda3/envs/dissertation/lib/python3.11/site-packages/statsmodels/regression/mixed_linear_model.py:2706: RuntimeWarning: invalid value encountered in sqrt\n",
      "  sdf[0:self.k_fe, 1] = np.sqrt(np.diag(self.cov_params()[0:self.k_fe]))\n"
     ]
    }
   ],
   "source": [
    "fit_mxied_effect_regression_model(dependent=\"step_size_after\", \n",
    "                                  independent=[\"order\", \"overall\", \"rating_dispersion\", \"review_count_log_after\"], \n",
    "                                  random_slope=True, random_intercept=True, scaled=True)"
   ]
  },
  {
   "cell_type": "code",
   "execution_count": null,
   "id": "13bd00b6-47af-4513-8e58-07df4d057a74",
   "metadata": {},
   "outputs": [],
   "source": []
  }
 ],
 "metadata": {
  "kernelspec": {
   "display_name": "Python 3 (ipykernel)",
   "language": "python",
   "name": "python3"
  },
  "language_info": {
   "codemirror_mode": {
    "name": "ipython",
    "version": 3
   },
   "file_extension": ".py",
   "mimetype": "text/x-python",
   "name": "python",
   "nbconvert_exporter": "python",
   "pygments_lexer": "ipython3",
   "version": "3.11.6"
  }
 },
 "nbformat": 4,
 "nbformat_minor": 5
}
