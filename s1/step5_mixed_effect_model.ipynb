{
 "cells": [
  {
   "cell_type": "code",
   "execution_count": 1,
   "id": "58763063-0488-45dd-a190-7b0b3d7172ac",
   "metadata": {},
   "outputs": [],
   "source": [
    "import pandas as pd\n",
    "import numpy as np\n",
    "import statsmodels.api as sm\n",
    "import statsmodels.formula.api as smf"
   ]
  },
  {
   "cell_type": "code",
   "execution_count": 2,
   "id": "85dd72ae-5ee3-4383-a445-089f47b8ba71",
   "metadata": {},
   "outputs": [],
   "source": [
    "df = pd.read_csv(\"s2_stats_test_final.csv\")"
   ]
  },
  {
   "cell_type": "code",
   "execution_count": 3,
   "id": "10292227-03ba-4b77-9bca-8f5e0e601bf7",
   "metadata": {},
   "outputs": [
    {
     "data": {
      "text/plain": [
       "(1921256, 32)"
      ]
     },
     "execution_count": 3,
     "metadata": {},
     "output_type": "execute_result"
    }
   ],
   "source": [
    "df.shape"
   ]
  },
  {
   "cell_type": "markdown",
   "id": "9644c1f7-84de-4538-bac9-54f69ee2cbd9",
   "metadata": {},
   "source": [
    "# Result of mixed effect model"
   ]
  },
  {
   "cell_type": "code",
   "execution_count": 4,
   "id": "ae42b96a-21d5-497f-875b-6e7ec1639151",
   "metadata": {
    "scrolled": true
   },
   "outputs": [
    {
     "name": "stderr",
     "output_type": "stream",
     "text": [
      "/home/jasongong/anaconda3/envs/dissertation/lib/python3.11/site-packages/statsmodels/base/model.py:607: ConvergenceWarning: Maximum Likelihood optimization failed to converge. Check mle_retvals\n",
      "  warnings.warn(\"Maximum Likelihood optimization failed to \"\n",
      "/home/jasongong/anaconda3/envs/dissertation/lib/python3.11/site-packages/statsmodels/regression/mixed_linear_model.py:2201: ConvergenceWarning: Retrying MixedLM optimization with lbfgs\n",
      "  warnings.warn(\n",
      "/home/jasongong/anaconda3/envs/dissertation/lib/python3.11/site-packages/statsmodels/base/model.py:607: ConvergenceWarning: Maximum Likelihood optimization failed to converge. Check mle_retvals\n",
      "  warnings.warn(\"Maximum Likelihood optimization failed to \"\n",
      "/home/jasongong/anaconda3/envs/dissertation/lib/python3.11/site-packages/statsmodels/regression/mixed_linear_model.py:2201: ConvergenceWarning: Retrying MixedLM optimization with cg\n",
      "  warnings.warn(\n",
      "/home/jasongong/anaconda3/envs/dissertation/lib/python3.11/site-packages/statsmodels/base/model.py:607: ConvergenceWarning: Maximum Likelihood optimization failed to converge. Check mle_retvals\n",
      "  warnings.warn(\"Maximum Likelihood optimization failed to \"\n",
      "/home/jasongong/anaconda3/envs/dissertation/lib/python3.11/site-packages/statsmodels/regression/mixed_linear_model.py:2207: ConvergenceWarning: MixedLM optimization failed, trying a different optimizer may help.\n",
      "  warnings.warn(msg, ConvergenceWarning)\n",
      "/home/jasongong/anaconda3/envs/dissertation/lib/python3.11/site-packages/statsmodels/regression/mixed_linear_model.py:2219: ConvergenceWarning: Gradient optimization failed, |grad| = 22739.526088\n",
      "  warnings.warn(msg, ConvergenceWarning)\n",
      "/home/jasongong/anaconda3/envs/dissertation/lib/python3.11/site-packages/statsmodels/regression/mixed_linear_model.py:2238: ConvergenceWarning: The MLE may be on the boundary of the parameter space.\n",
      "  warnings.warn(msg, ConvergenceWarning)\n"
     ]
    },
    {
     "name": "stdout",
     "output_type": "stream",
     "text": [
      "               Mixed Linear Model Regression Results\n",
      "===================================================================\n",
      "Model:              MixedLM   Dependent Variable:   step_size_after\n",
      "No. Observations:   1808228   Method:               REML           \n",
      "No. Groups:         31848     Scale:                0.0209         \n",
      "Min. group size:    1         Log-Likelihood:       904237.6530    \n",
      "Max. group size:    294       Converged:            No             \n",
      "Mean group size:    56.8                                           \n",
      "-------------------------------------------------------------------\n",
      "                        Coef.  Std.Err.    z    P>|z| [0.025 0.975]\n",
      "-------------------------------------------------------------------\n",
      "Intercept                0.981    0.001 812.285 0.000  0.978  0.983\n",
      "order_new                0.000    0.000   9.000 0.000  0.000  0.000\n",
      "step_size_before         0.163    0.001 216.567 0.000  0.161  0.164\n",
      "rating_dispersion_after  0.035    0.000  78.740 0.000  0.034  0.036\n",
      "overall                 -0.005    0.000 -37.621 0.000 -0.005 -0.005\n",
      "review_count_log_after  -0.002    0.000 -41.940 0.000 -0.003 -0.002\n",
      "Group Var                0.002    0.000                            \n",
      "===================================================================\n",
      "\n"
     ]
    }
   ],
   "source": [
    "test_df = df[~df[[\"step_size_after\", \"order_new\", \"step_size_before\", \"rating_dispersion_after\", \"overall\", \"review_count_log_after\"]].isnull().any(axis=1)]\n",
    "test_df = test_df[np.isfinite(test_df.review_count_log_after)]\n",
    "\n",
    "md = smf.mixedlm(\"step_size_after ~ order_new  + step_size_before + rating_dispersion_after + overall + review_count_log_after\", \n",
    "                 test_df, groups=test_df[\"reviewerID\"])\n",
    "mdf = md.fit()\n",
    "print(mdf.summary())"
   ]
  },
  {
   "cell_type": "code",
   "execution_count": null,
   "id": "49202baa-8a5d-43cc-82a9-e81c30e4c852",
   "metadata": {},
   "outputs": [],
   "source": []
  }
 ],
 "metadata": {
  "kernelspec": {
   "display_name": "Python 3 (ipykernel)",
   "language": "python",
   "name": "python3"
  },
  "language_info": {
   "codemirror_mode": {
    "name": "ipython",
    "version": 3
   },
   "file_extension": ".py",
   "mimetype": "text/x-python",
   "name": "python",
   "nbconvert_exporter": "python",
   "pygments_lexer": "ipython3",
   "version": "3.11.6"
  }
 },
 "nbformat": 4,
 "nbformat_minor": 5
}
