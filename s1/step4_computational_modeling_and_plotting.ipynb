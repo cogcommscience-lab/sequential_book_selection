{
 "cells": [
  {
   "cell_type": "code",
   "execution_count": 1,
   "id": "3627e67e",
   "metadata": {
    "tags": []
   },
   "outputs": [],
   "source": [
    "import pandas as pd\n",
    "import numpy as np\n",
    "import seaborn as sns\n",
    "from matplotlib import pyplot as plt\n",
    "import matplotlib.font_manager as font_manager\n",
    "\n",
    "import ast\n",
    "\n",
    "import statsmodels.api as sm\n",
    "\n",
    "import statsmodels.formula.api as smf\n",
    "\n",
    "from scipy.stats import pearsonr\n",
    "from tqdm import tqdm"
   ]
  },
  {
   "cell_type": "code",
   "execution_count": 2,
   "id": "b5cb5283",
   "metadata": {
    "tags": []
   },
   "outputs": [],
   "source": [
    "book_interaction = pd.read_csv(\"../../s1/book_interaction_filter.csv\")\n",
    "book_description = pd.read_pickle(\"../../s1/book_description_with_embedding.pkl\")"
   ]
  },
  {
   "cell_type": "code",
   "execution_count": 3,
   "id": "7c06f5cb-25a1-4586-a33b-8b627c41dcb6",
   "metadata": {},
   "outputs": [
    {
     "data": {
      "text/plain": [
       "(2111934, 7)"
      ]
     },
     "execution_count": 3,
     "metadata": {},
     "output_type": "execute_result"
    }
   ],
   "source": [
    "book_interaction.shape"
   ]
  },
  {
   "cell_type": "code",
   "execution_count": 4,
   "id": "2e7a86d5-ce71-4ff3-ab7d-c406dfe9c472",
   "metadata": {},
   "outputs": [],
   "source": [
    "book_interaction = book_interaction[book_interaction.overall > 0]"
   ]
  },
  {
   "cell_type": "code",
   "execution_count": 5,
   "id": "c10971bc-6447-4cb7-9266-cb21faeb01b4",
   "metadata": {},
   "outputs": [],
   "source": [
    "book_description[\"avg_rating\"] = book_description.avg_rating.astype(float)"
   ]
  },
  {
   "cell_type": "code",
   "execution_count": 6,
   "id": "c14d8451-1cea-427a-af2f-f3663ece0e23",
   "metadata": {},
   "outputs": [],
   "source": [
    "book_description[\"rating_dispersion\"] = \\\n",
    "(((1 - book_description.avg_rating) ** 2 * book_description.rating_1_count +\\\n",
    "(2 - book_description.avg_rating) ** 2 * book_description.rating_2_count+\\\n",
    "(3 - book_description.avg_rating) ** 2 * book_description.rating_3_count+\\\n",
    "(4 - book_description.avg_rating) ** 2 * book_description.rating_4_count+\\\n",
    "(5 - book_description.avg_rating) ** 2 * book_description.rating_5_count) / \\\n",
    "(book_description.rating_1_count + \\\n",
    " book_description.rating_2_count + \\\n",
    " book_description.rating_3_count + \\\n",
    " book_description.rating_4_count + \\\n",
    " book_description.rating_5_count))\n"
   ]
  },
  {
   "cell_type": "code",
   "execution_count": 7,
   "id": "1af67119-a04a-4e0e-bf0e-82b76bfe54e1",
   "metadata": {},
   "outputs": [
    {
     "data": {
      "text/plain": [
       "Index(['Unnamed: 0', 'overall', 'reviewerID', 'unixReviewTime', 'asin', 'date',\n",
       "       'order'],\n",
       "      dtype='object')"
      ]
     },
     "execution_count": 7,
     "metadata": {},
     "output_type": "execute_result"
    }
   ],
   "source": [
    "book_interaction.columns"
   ]
  },
  {
   "cell_type": "code",
   "execution_count": 8,
   "id": "ff48c786-3d14-4d78-85a9-c5400f5540c4",
   "metadata": {},
   "outputs": [],
   "source": [
    "book_interaction = book_interaction.sort_values([\"reviewerID\", \"order\"])[[\"overall\", \"reviewerID\", \"unixReviewTime\", \"asin\", \"order\"]].reset_index(drop=True)\n",
    "book_interaction.columns = [\"overall\", \"reviewerID\", \"unixReviewTime\", \"isbn\", \"order\"]"
   ]
  },
  {
   "cell_type": "code",
   "execution_count": 10,
   "id": "46bf2ed5",
   "metadata": {},
   "outputs": [],
   "source": [
    "book_description = book_description[[\"isbn\", \"embedding\", \"genre_top\", \"avg_rating\", \"rating_dispersion\", \"review_count\"]]"
   ]
  },
  {
   "cell_type": "code",
   "execution_count": 11,
   "id": "009ef31d",
   "metadata": {},
   "outputs": [
    {
     "data": {
      "text/html": [
       "<div>\n",
       "<style scoped>\n",
       "    .dataframe tbody tr th:only-of-type {\n",
       "        vertical-align: middle;\n",
       "    }\n",
       "\n",
       "    .dataframe tbody tr th {\n",
       "        vertical-align: top;\n",
       "    }\n",
       "\n",
       "    .dataframe thead th {\n",
       "        text-align: right;\n",
       "    }\n",
       "</style>\n",
       "<table border=\"1\" class=\"dataframe\">\n",
       "  <thead>\n",
       "    <tr style=\"text-align: right;\">\n",
       "      <th></th>\n",
       "      <th>overall</th>\n",
       "      <th>reviewerID</th>\n",
       "      <th>unixReviewTime</th>\n",
       "      <th>isbn</th>\n",
       "      <th>order</th>\n",
       "    </tr>\n",
       "  </thead>\n",
       "  <tbody>\n",
       "    <tr>\n",
       "      <th>0</th>\n",
       "      <td>5.0</td>\n",
       "      <td>A0020356UF96ZV361ST</td>\n",
       "      <td>1433376000</td>\n",
       "      <td>1508785929</td>\n",
       "      <td>0</td>\n",
       "    </tr>\n",
       "    <tr>\n",
       "      <th>1</th>\n",
       "      <td>5.0</td>\n",
       "      <td>A0020356UF96ZV361ST</td>\n",
       "      <td>1433721600</td>\n",
       "      <td>1512208086</td>\n",
       "      <td>1</td>\n",
       "    </tr>\n",
       "    <tr>\n",
       "      <th>2</th>\n",
       "      <td>5.0</td>\n",
       "      <td>A0020356UF96ZV361ST</td>\n",
       "      <td>1433808000</td>\n",
       "      <td>1940574366</td>\n",
       "      <td>2</td>\n",
       "    </tr>\n",
       "    <tr>\n",
       "      <th>3</th>\n",
       "      <td>4.0</td>\n",
       "      <td>A0020356UF96ZV361ST</td>\n",
       "      <td>1433894400</td>\n",
       "      <td>1938442881</td>\n",
       "      <td>3</td>\n",
       "    </tr>\n",
       "    <tr>\n",
       "      <th>4</th>\n",
       "      <td>4.0</td>\n",
       "      <td>A0020356UF96ZV361ST</td>\n",
       "      <td>1434153600</td>\n",
       "      <td>1940574390</td>\n",
       "      <td>4</td>\n",
       "    </tr>\n",
       "  </tbody>\n",
       "</table>\n",
       "</div>"
      ],
      "text/plain": [
       "   overall           reviewerID  unixReviewTime        isbn  order\n",
       "0      5.0  A0020356UF96ZV361ST      1433376000  1508785929      0\n",
       "1      5.0  A0020356UF96ZV361ST      1433721600  1512208086      1\n",
       "2      5.0  A0020356UF96ZV361ST      1433808000  1940574366      2\n",
       "3      4.0  A0020356UF96ZV361ST      1433894400  1938442881      3\n",
       "4      4.0  A0020356UF96ZV361ST      1434153600  1940574390      4"
      ]
     },
     "execution_count": 11,
     "metadata": {},
     "output_type": "execute_result"
    }
   ],
   "source": [
    "book_interaction.head()"
   ]
  },
  {
   "cell_type": "code",
   "execution_count": 12,
   "id": "b25dc628-65ae-4049-a41e-2c4e081bef8f",
   "metadata": {},
   "outputs": [
    {
     "data": {
      "text/plain": [
       "(2111933, 5)"
      ]
     },
     "execution_count": 12,
     "metadata": {},
     "output_type": "execute_result"
    }
   ],
   "source": [
    "book_interaction.shape"
   ]
  },
  {
   "cell_type": "code",
   "execution_count": 13,
   "id": "e3123491-a008-4496-9be3-5d273c419975",
   "metadata": {},
   "outputs": [
    {
     "data": {
      "text/plain": [
       "(35478,)"
      ]
     },
     "execution_count": 13,
     "metadata": {},
     "output_type": "execute_result"
    }
   ],
   "source": [
    "book_interaction.reviewerID.unique().shape"
   ]
  },
  {
   "cell_type": "code",
   "execution_count": 15,
   "id": "6a222c79",
   "metadata": {},
   "outputs": [],
   "source": [
    "book_description = book_description[book_description.isbn.isin(book_interaction.isbn.unique())]"
   ]
  },
  {
   "cell_type": "code",
   "execution_count": 16,
   "id": "86ac794a-f7e0-447e-922e-67d46bc0acba",
   "metadata": {},
   "outputs": [
    {
     "data": {
      "text/plain": [
       "(416797, 6)"
      ]
     },
     "execution_count": 16,
     "metadata": {},
     "output_type": "execute_result"
    }
   ],
   "source": [
    "book_description.shape"
   ]
  },
  {
   "cell_type": "code",
   "execution_count": 17,
   "id": "53784299-664c-43d6-ae6d-08ba48130476",
   "metadata": {},
   "outputs": [],
   "source": [
    "from scipy.spatial.distance import pdist"
   ]
  },
  {
   "cell_type": "code",
   "execution_count": 18,
   "id": "a59bbfec-5d2c-4ca9-8a7f-bf9e7c5107dd",
   "metadata": {},
   "outputs": [],
   "source": [
    "book_embeddings = np.array(book_description.embedding.tolist())"
   ]
  },
  {
   "cell_type": "code",
   "execution_count": 19,
   "id": "82b32840-6d3a-48e9-a8ae-4066272cae85",
   "metadata": {},
   "outputs": [
    {
     "data": {
      "text/plain": [
       "(416797, 384)"
      ]
     },
     "execution_count": 19,
     "metadata": {},
     "output_type": "execute_result"
    }
   ],
   "source": [
    "book_embeddings.shape"
   ]
  },
  {
   "cell_type": "code",
   "execution_count": 20,
   "id": "34602a31",
   "metadata": {},
   "outputs": [],
   "source": [
    "book_interaction = book_interaction.merge(book_description, how=\"left\", on=\"isbn\")"
   ]
  },
  {
   "cell_type": "code",
   "execution_count": 21,
   "id": "74bdee00-b83e-45c0-a178-f11c7617d77d",
   "metadata": {},
   "outputs": [],
   "source": [
    "book_interaction[\"embedding_na\"] = book_interaction[\"embedding\"].isna()"
   ]
  },
  {
   "cell_type": "code",
   "execution_count": 22,
   "id": "a9a5ba1d-6e84-4418-810c-dcacbbbc16b6",
   "metadata": {},
   "outputs": [
    {
     "data": {
      "text/plain": [
       "(8368,)"
      ]
     },
     "execution_count": 22,
     "metadata": {},
     "output_type": "execute_result"
    }
   ],
   "source": [
    "book_interaction[book_interaction.embedding_na].isbn.unique().shape"
   ]
  },
  {
   "cell_type": "code",
   "execution_count": 23,
   "id": "8b011d19-fed0-46a4-b063-a087c1e9b84f",
   "metadata": {},
   "outputs": [],
   "source": [
    "book_interaction = book_interaction[~book_interaction.embedding.isna()] # filter out reading reacords that do not have a goodreads metadata"
   ]
  },
  {
   "cell_type": "code",
   "execution_count": 24,
   "id": "fe042da7-6366-4f7c-bc2d-f8544c6ec91c",
   "metadata": {},
   "outputs": [
    {
     "data": {
      "text/plain": [
       "58.73019899656125"
      ]
     },
     "execution_count": 24,
     "metadata": {},
     "output_type": "execute_result"
    }
   ],
   "source": [
    "print(book_interaction.groupby(\"reviewerID\").count().isbn.mean()) # average reading count "
   ]
  },
  {
   "cell_type": "code",
   "execution_count": 25,
   "id": "111f594d-5369-439c-ac28-6b8f39e4abe5",
   "metadata": {},
   "outputs": [
    {
     "data": {
      "text/plain": [
       "40.37408909971268"
      ]
     },
     "execution_count": 25,
     "metadata": {},
     "output_type": "execute_result"
    }
   ],
   "source": [
    "print(book_interaction.groupby(\"reviewerID\").count().isbn.std()) # std reading count "
   ]
  },
  {
   "cell_type": "code",
   "execution_count": 26,
   "id": "d05eeb2d-a073-4d9f-9d82-f953f8a1f32b",
   "metadata": {},
   "outputs": [
    {
     "data": {
      "text/plain": [
       "(35478,)"
      ]
     },
     "execution_count": 26,
     "metadata": {},
     "output_type": "execute_result"
    }
   ],
   "source": [
    "book_interaction.reviewerID.unique().shape # N of readers"
   ]
  },
  {
   "cell_type": "code",
   "execution_count": 27,
   "id": "3e572c57-b11e-46cd-87e2-7196ea7a6f43",
   "metadata": {},
   "outputs": [
    {
     "data": {
      "text/plain": [
       "(2083630, 11)"
      ]
     },
     "execution_count": 27,
     "metadata": {},
     "output_type": "execute_result"
    }
   ],
   "source": [
    "book_interaction.shape # N of records"
   ]
  },
  {
   "cell_type": "code",
   "execution_count": 28,
   "id": "e69cd53a-16eb-47c0-bc46-97297195a7d0",
   "metadata": {},
   "outputs": [
    {
     "data": {
      "text/plain": [
       "0.013583505708787068"
      ]
     },
     "execution_count": 28,
     "metadata": {},
     "output_type": "execute_result"
    }
   ],
   "source": [
    "(2111933 - 2083630)/2083630 # % of records that do not have metadata"
   ]
  },
  {
   "cell_type": "code",
   "execution_count": 29,
   "id": "407bbe9f-58e4-4785-8034-53bee558008e",
   "metadata": {},
   "outputs": [
    {
     "data": {
      "text/plain": [
       "28303"
      ]
     },
     "execution_count": 29,
     "metadata": {},
     "output_type": "execute_result"
    }
   ],
   "source": [
    "(2111933 - 2083630) # N of records that do not have metadata"
   ]
  },
  {
   "cell_type": "code",
   "execution_count": 266,
   "id": "c95d8958-e830-4da6-9a38-c93cbb783e7a",
   "metadata": {},
   "outputs": [
    {
     "data": {
      "text/plain": [
       "(416797,)"
      ]
     },
     "execution_count": 266,
     "metadata": {},
     "output_type": "execute_result"
    }
   ],
   "source": [
    "book_interaction.isbn.unique().shape # N of unique books"
   ]
  },
  {
   "cell_type": "code",
   "execution_count": 267,
   "id": "37c07736-8c6e-4e0c-8b0e-f9449ace7efb",
   "metadata": {},
   "outputs": [
    {
     "data": {
      "text/plain": [
       "862185600"
      ]
     },
     "execution_count": 267,
     "metadata": {},
     "output_type": "execute_result"
    }
   ],
   "source": [
    "book_interaction.unixReviewTime.min() "
   ]
  },
  {
   "cell_type": "code",
   "execution_count": 268,
   "id": "57b2c321-a73f-41d0-880f-44c4b7ab0d84",
   "metadata": {},
   "outputs": [
    {
     "data": {
      "text/plain": [
       "1538092800"
      ]
     },
     "execution_count": 268,
     "metadata": {},
     "output_type": "execute_result"
    }
   ],
   "source": [
    "book_interaction.unixReviewTime.max()"
   ]
  },
  {
   "cell_type": "code",
   "execution_count": 30,
   "id": "c5cd1bf7-22c6-455f-9269-2f19c6772d4e",
   "metadata": {},
   "outputs": [],
   "source": [
    "gr = book_interaction.sort_values('unixReviewTime').groupby('reviewerID')\n",
    "book_interaction['order'] = gr.cumcount()"
   ]
  },
  {
   "cell_type": "code",
   "execution_count": null,
   "id": "cbab2d3e-c8b0-40b3-b06f-fbd93250eabf",
   "metadata": {},
   "outputs": [],
   "source": [
    "from scipy.spatial.distance import pdist, squareform\n",
    "import pickle\n",
    "\n",
    "def get_point_to_set_distance_eucliean(embedding, compare=1):\n",
    "    dist_matrix = squareform(pdist(np.array(embedding), 'euclidean'))\n",
    "    mask_matrix = np.zeros(dist_matrix.shape)\n",
    "    mask_matrix[np.triu_indices(mask_matrix.shape[0])] = 1\n",
    "    mask_matrix[np.tril_indices(mask_matrix.shape[0], k=-(compare+1))] = 1\n",
    "    masked_dist_matrix = np.ma.array(dist_matrix, mask = mask_matrix)\n",
    "    distance_min = masked_dist_matrix.min(axis=1).data[1:]  \n",
    "    \n",
    "    return distance_min\n",
    "\n",
    "\n",
    "df_list = []\n",
    "\n",
    "for name, group in tqdm(book_interaction.groupby('reviewerID')):\n",
    "    user = group[\"reviewerID\"]\n",
    "    embedding = np.array(group[\"embedding\"].tolist())\n",
    "    \n",
    "    group[\"overall\"] = group[\"overall\"] \n",
    "    rating = np.array(group[\"overall\"].tolist())\n",
    "\n",
    "    overall_before = np.append(np.nan, group.overall)[:-1]\n",
    "    overall_before_before = np.append(np.nan, overall_before)[:-1]\n",
    "    step_sizes = get_point_to_set_distance_eucliean(embedding)\n",
    "    step_size_after = np.append(step_sizes, np.nan)\n",
    "    step_size_before = np.append(np.nan, step_sizes)\n",
    "    step_size_before_before = np.append(np.nan, step_size_before)[:-1]\n",
    "    \n",
    "    avg_rating_after = np.append(group.avg_rating.iloc[1:], np.nan)\n",
    "    rating_dispersion_after = np.append(group.rating_dispersion.iloc[1:], np.nan)\n",
    "    review_count_after = np.append(group.review_count.iloc[1:], np.nan)\n",
    "    \n",
    "    explore_distance = get_point_to_set_distance_eucliean(embedding, compare=999)\n",
    "    explore_distance_after = np.append(explore_distance, np.nan)\n",
    "    explore_distance_before = np.append(np.nan, explore_distance)\n",
    "    explore_distance_before_before = np.append(np.nan, explore_distance_before)[:-1]\n",
    "    \n",
    "    record = {\"user\": user.unique()[0],\n",
    "             \"rating\": rating,\n",
    "             \"step_size_after\": step_size_after,\n",
    "             \"step_size_before\": step_size_before,\n",
    "             \"step_size_before_before\": step_size_before_before,\n",
    "             \"avg_rating_after\": avg_rating_after, \n",
    "             \"rating_dispersion_after\": rating_dispersion_after,\n",
    "             \"overall\": rating,\n",
    "             \"overall_before\": overall_before,\n",
    "              \"overall_before_before\": overall_before_before, \n",
    "             \"explore_distance_after\": explore_distance_after,\n",
    "             \"explore_distance_before\": explore_distance_before,\n",
    "             \"explore_distance_before_before\": explore_distance_before_before,\n",
    "             \"review_count_after\": review_count_after}\n",
    "    df_list.append(record)"
   ]
  },
  {
   "cell_type": "code",
   "execution_count": 34,
   "id": "785130ff-daa0-4b5e-b499-a92c173ab624",
   "metadata": {},
   "outputs": [
    {
     "name": "stderr",
     "output_type": "stream",
     "text": [
      "/home/jasongong/anaconda3/envs/dissertation/lib/python3.11/site-packages/pandas/core/arraylike.py:399: RuntimeWarning: divide by zero encountered in log\n",
      "  result = getattr(ufunc, method)(*inputs, **kwargs)\n"
     ]
    }
   ],
   "source": [
    "book_interaction.loc[:, \"step_size_after\"] = np.concatenate([record[\"step_size_after\"] for record in df_list])\n",
    "book_interaction.loc[:, \"step_size_before\"] = np.concatenate([record[\"step_size_before\"] for record in df_list])\n",
    "book_interaction.loc[:, \"step_size_before_before\"] = np.concatenate([record[\"step_size_before_before\"] for record in df_list])\n",
    "\n",
    "book_interaction.loc[:, \"overall_new\"] = np.concatenate([record[\"overall\"] for record in df_list])\n",
    "book_interaction.loc[:, \"overall_before\"] = np.concatenate([record[\"overall_before\"] for record in df_list])\n",
    "book_interaction.loc[:, \"overall_before_before\"] = np.concatenate([record[\"overall_before_before\"] for record in df_list])\n",
    "\n",
    "book_interaction.loc[:, \"avg_rating_after\"] = np.concatenate([record[\"avg_rating_after\"] for record in df_list])\n",
    "book_interaction.loc[:, \"rating_dispersion_after\"] = np.concatenate([record[\"rating_dispersion_after\"] for record in df_list])\n",
    "book_interaction.loc[:, \"review_count_after\"] = np.concatenate([record[\"review_count_after\"] for record in df_list])\n",
    "book_interaction[\"review_count_log_after\"] = np.log(book_interaction.review_count_after)"
   ]
  },
  {
   "cell_type": "code",
   "execution_count": 36,
   "id": "c6be9806-d198-4e95-841c-1e2b8d69e2a3",
   "metadata": {},
   "outputs": [
    {
     "data": {
      "text/html": [
       "<div>\n",
       "<style scoped>\n",
       "    .dataframe tbody tr th:only-of-type {\n",
       "        vertical-align: middle;\n",
       "    }\n",
       "\n",
       "    .dataframe tbody tr th {\n",
       "        vertical-align: top;\n",
       "    }\n",
       "\n",
       "    .dataframe thead th {\n",
       "        text-align: right;\n",
       "    }\n",
       "</style>\n",
       "<table border=\"1\" class=\"dataframe\">\n",
       "  <thead>\n",
       "    <tr style=\"text-align: right;\">\n",
       "      <th></th>\n",
       "      <th>overall</th>\n",
       "      <th>reviewerID</th>\n",
       "      <th>unixReviewTime</th>\n",
       "      <th>isbn</th>\n",
       "      <th>order</th>\n",
       "      <th>embedding</th>\n",
       "      <th>genre_top</th>\n",
       "      <th>avg_rating</th>\n",
       "      <th>rating_dispersion</th>\n",
       "      <th>review_count</th>\n",
       "      <th>...</th>\n",
       "      <th>step_size_after</th>\n",
       "      <th>step_size_before</th>\n",
       "      <th>step_size_before_before</th>\n",
       "      <th>overall_new</th>\n",
       "      <th>overall_before</th>\n",
       "      <th>overall_before_before</th>\n",
       "      <th>avg_rating_after</th>\n",
       "      <th>rating_dispersion_after</th>\n",
       "      <th>review_count_after</th>\n",
       "      <th>review_count_log_after</th>\n",
       "    </tr>\n",
       "  </thead>\n",
       "  <tbody>\n",
       "    <tr>\n",
       "      <th>0</th>\n",
       "      <td>5.0</td>\n",
       "      <td>A0020356UF96ZV361ST</td>\n",
       "      <td>1433376000</td>\n",
       "      <td>1508785929</td>\n",
       "      <td>0</td>\n",
       "      <td>[-0.09414349496364594, -0.03927240148186684, -...</td>\n",
       "      <td>NaN</td>\n",
       "      <td>4.69</td>\n",
       "      <td>0.512159</td>\n",
       "      <td>40.0</td>\n",
       "      <td>...</td>\n",
       "      <td>1.168234</td>\n",
       "      <td>NaN</td>\n",
       "      <td>NaN</td>\n",
       "      <td>5.0</td>\n",
       "      <td>NaN</td>\n",
       "      <td>NaN</td>\n",
       "      <td>4.53</td>\n",
       "      <td>0.573603</td>\n",
       "      <td>14.0</td>\n",
       "      <td>2.639057</td>\n",
       "    </tr>\n",
       "    <tr>\n",
       "      <th>1</th>\n",
       "      <td>5.0</td>\n",
       "      <td>A0020356UF96ZV361ST</td>\n",
       "      <td>1433721600</td>\n",
       "      <td>1512208086</td>\n",
       "      <td>1</td>\n",
       "      <td>[-0.11971894651651382, -0.04757317900657654, -...</td>\n",
       "      <td>NaN</td>\n",
       "      <td>4.53</td>\n",
       "      <td>0.573603</td>\n",
       "      <td>14.0</td>\n",
       "      <td>...</td>\n",
       "      <td>1.073847</td>\n",
       "      <td>1.168234</td>\n",
       "      <td>NaN</td>\n",
       "      <td>5.0</td>\n",
       "      <td>5.0</td>\n",
       "      <td>NaN</td>\n",
       "      <td>4.71</td>\n",
       "      <td>0.348066</td>\n",
       "      <td>27.0</td>\n",
       "      <td>3.295837</td>\n",
       "    </tr>\n",
       "    <tr>\n",
       "      <th>2</th>\n",
       "      <td>5.0</td>\n",
       "      <td>A0020356UF96ZV361ST</td>\n",
       "      <td>1433808000</td>\n",
       "      <td>1940574366</td>\n",
       "      <td>2</td>\n",
       "      <td>[-0.08566500246524811, -0.004923059605062008, ...</td>\n",
       "      <td>African American</td>\n",
       "      <td>4.71</td>\n",
       "      <td>0.348066</td>\n",
       "      <td>27.0</td>\n",
       "      <td>...</td>\n",
       "      <td>1.087226</td>\n",
       "      <td>1.073847</td>\n",
       "      <td>1.168234</td>\n",
       "      <td>5.0</td>\n",
       "      <td>5.0</td>\n",
       "      <td>5.0</td>\n",
       "      <td>4.53</td>\n",
       "      <td>0.628141</td>\n",
       "      <td>32.0</td>\n",
       "      <td>3.465736</td>\n",
       "    </tr>\n",
       "    <tr>\n",
       "      <th>3</th>\n",
       "      <td>4.0</td>\n",
       "      <td>A0020356UF96ZV361ST</td>\n",
       "      <td>1433894400</td>\n",
       "      <td>1938442881</td>\n",
       "      <td>3</td>\n",
       "      <td>[-0.06995930522680283, -0.0741531103849411, 0....</td>\n",
       "      <td>NaN</td>\n",
       "      <td>4.53</td>\n",
       "      <td>0.628141</td>\n",
       "      <td>32.0</td>\n",
       "      <td>...</td>\n",
       "      <td>0.957763</td>\n",
       "      <td>1.087226</td>\n",
       "      <td>1.073847</td>\n",
       "      <td>4.0</td>\n",
       "      <td>5.0</td>\n",
       "      <td>5.0</td>\n",
       "      <td>4.47</td>\n",
       "      <td>0.799432</td>\n",
       "      <td>26.0</td>\n",
       "      <td>3.258097</td>\n",
       "    </tr>\n",
       "    <tr>\n",
       "      <th>4</th>\n",
       "      <td>4.0</td>\n",
       "      <td>A0020356UF96ZV361ST</td>\n",
       "      <td>1434153600</td>\n",
       "      <td>1940574390</td>\n",
       "      <td>4</td>\n",
       "      <td>[-0.05623221397399902, -0.09144005924463272, 0...</td>\n",
       "      <td>NaN</td>\n",
       "      <td>4.47</td>\n",
       "      <td>0.799432</td>\n",
       "      <td>26.0</td>\n",
       "      <td>...</td>\n",
       "      <td>0.984077</td>\n",
       "      <td>0.957763</td>\n",
       "      <td>1.087226</td>\n",
       "      <td>4.0</td>\n",
       "      <td>4.0</td>\n",
       "      <td>5.0</td>\n",
       "      <td>4.70</td>\n",
       "      <td>0.397927</td>\n",
       "      <td>61.0</td>\n",
       "      <td>4.110874</td>\n",
       "    </tr>\n",
       "  </tbody>\n",
       "</table>\n",
       "<p>5 rows × 21 columns</p>\n",
       "</div>"
      ],
      "text/plain": [
       "   overall           reviewerID  unixReviewTime        isbn  order  \\\n",
       "0      5.0  A0020356UF96ZV361ST      1433376000  1508785929      0   \n",
       "1      5.0  A0020356UF96ZV361ST      1433721600  1512208086      1   \n",
       "2      5.0  A0020356UF96ZV361ST      1433808000  1940574366      2   \n",
       "3      4.0  A0020356UF96ZV361ST      1433894400  1938442881      3   \n",
       "4      4.0  A0020356UF96ZV361ST      1434153600  1940574390      4   \n",
       "\n",
       "                                           embedding         genre_top  \\\n",
       "0  [-0.09414349496364594, -0.03927240148186684, -...               NaN   \n",
       "1  [-0.11971894651651382, -0.04757317900657654, -...               NaN   \n",
       "2  [-0.08566500246524811, -0.004923059605062008, ...  African American   \n",
       "3  [-0.06995930522680283, -0.0741531103849411, 0....               NaN   \n",
       "4  [-0.05623221397399902, -0.09144005924463272, 0...               NaN   \n",
       "\n",
       "   avg_rating  rating_dispersion  review_count  ...  step_size_after  \\\n",
       "0        4.69           0.512159          40.0  ...         1.168234   \n",
       "1        4.53           0.573603          14.0  ...         1.073847   \n",
       "2        4.71           0.348066          27.0  ...         1.087226   \n",
       "3        4.53           0.628141          32.0  ...         0.957763   \n",
       "4        4.47           0.799432          26.0  ...         0.984077   \n",
       "\n",
       "   step_size_before  step_size_before_before  overall_new  overall_before  \\\n",
       "0               NaN                      NaN          5.0             NaN   \n",
       "1          1.168234                      NaN          5.0             5.0   \n",
       "2          1.073847                 1.168234          5.0             5.0   \n",
       "3          1.087226                 1.073847          4.0             5.0   \n",
       "4          0.957763                 1.087226          4.0             4.0   \n",
       "\n",
       "   overall_before_before  avg_rating_after  rating_dispersion_after  \\\n",
       "0                    NaN              4.53                 0.573603   \n",
       "1                    NaN              4.71                 0.348066   \n",
       "2                    5.0              4.53                 0.628141   \n",
       "3                    5.0              4.47                 0.799432   \n",
       "4                    5.0              4.70                 0.397927   \n",
       "\n",
       "   review_count_after  review_count_log_after  \n",
       "0                14.0                2.639057  \n",
       "1                27.0                3.295837  \n",
       "2                32.0                3.465736  \n",
       "3                26.0                3.258097  \n",
       "4                61.0                4.110874  \n",
       "\n",
       "[5 rows x 21 columns]"
      ]
     },
     "execution_count": 36,
     "metadata": {},
     "output_type": "execute_result"
    }
   ],
   "source": [
    "book_interaction.head()"
   ]
  },
  {
   "cell_type": "code",
   "execution_count": 37,
   "id": "28d10458-75d0-4604-b5c7-e0cbaf5c4d84",
   "metadata": {},
   "outputs": [],
   "source": [
    "book_description = book_description[book_description.isbn.isin(book_interaction.isbn.unique())]"
   ]
  },
  {
   "cell_type": "code",
   "execution_count": 38,
   "id": "9f288873-819f-47b0-a744-44c5b51d2241",
   "metadata": {
    "scrolled": true
   },
   "outputs": [
    {
     "data": {
      "text/plain": [
       "(416797, 6)"
      ]
     },
     "execution_count": 38,
     "metadata": {},
     "output_type": "execute_result"
    }
   ],
   "source": [
    "book_description.shape"
   ]
  },
  {
   "cell_type": "code",
   "execution_count": 40,
   "id": "55fae624-16ac-4f79-aad6-7dd5ded35c5b",
   "metadata": {},
   "outputs": [
    {
     "data": {
      "text/plain": [
       "(2083630, 21)"
      ]
     },
     "execution_count": 40,
     "metadata": {},
     "output_type": "execute_result"
    }
   ],
   "source": [
    "book_interaction.shape"
   ]
  },
  {
   "cell_type": "code",
   "execution_count": 175,
   "id": "7cdc3fba",
   "metadata": {},
   "outputs": [
    {
     "data": {
      "text/plain": [
       "Text(0, 0.5, 'Reading Enjoyment')"
      ]
     },
     "execution_count": 175,
     "metadata": {},
     "output_type": "execute_result"
    },
    {
     "data": {
      "image/png": "[encoded data removed]",
      "text/plain": [
       "<Figure size 600x500 with 1 Axes>"
      ]
     },
     "metadata": {},
     "output_type": "display_data"
    }
   ],
   "source": [
    "from matplotlib.ticker import StrMethodFormatter\n",
    "fig, ax = plt.subplots(figsize=(6, 5))\n",
    "sns.lineplot(data=book_interaction[book_interaction.order_new <=100],\n",
    "             x=\"order_new\",\n",
    "             y=\"overall\", errorbar=(\"se\", 2.576),err_style=\"bars\",\n",
    "              marker=\"o\",\n",
    "             dashes=True, color=sns.color_palette(\"flare\")[-1])\n",
    "\n",
    "ax.spines[['right', 'top']].set_visible(False)\n",
    "plt.xticks(fontsize=12)\n",
    "plt.yticks(fontsize=12)\n",
    "plt.gca().yaxis.set_major_formatter(StrMethodFormatter('{x:,.2f}'))\n",
    "plt.xlabel(\"Number of Books Read\", fontdict={'fontfamily': 'Arial', 'fontsize': 16})\n",
    "plt.ylabel(\"Reading Enjoyment\", fontdict={'fontfamily': 'Arial', 'fontsize': 16})"
   ]
  },
  {
   "cell_type": "code",
   "execution_count": 152,
   "id": "22aa4ae9-8ea5-4ed7-9834-a340cfc1b131",
   "metadata": {},
   "outputs": [],
   "source": [
    "from scipy.stats import pearsonr"
   ]
  },
  {
   "cell_type": "code",
   "execution_count": 157,
   "id": "5159b9ae-9901-4e65-b711-a7b9341e817a",
   "metadata": {},
   "outputs": [
    {
     "name": "stdout",
     "output_type": "stream",
     "text": [
      "PearsonRResult(statistic=0.022357699086130937, pvalue=6.5499303462386995e-211)\n",
      "ConfidenceInterval(low=0.020500214574323, high=0.024215029254362218)\n"
     ]
    }
   ],
   "source": [
    "r_res = pearsonr(book_interaction.order_new, book_interaction.overall)\n",
    "print(r_res)\n",
    "print(r_res.confidence_interval(confidence_level=0.99))"
   ]
  },
  {
   "cell_type": "code",
   "execution_count": 291,
   "id": "80d98e2a-e6c3-4894-81f7-4c3ca84a972a",
   "metadata": {},
   "outputs": [
    {
     "data": {
      "text/plain": [
       "Text(0, 0.5, 'Average Rating')"
      ]
     },
     "execution_count": 291,
     "metadata": {},
     "output_type": "execute_result"
    },
    {
     "data": {
      "image/png": "[encoded data removed]",
      "text/plain": [
       "<Figure size 600x500 with 1 Axes>"
      ]
     },
     "metadata": {},
     "output_type": "display_data"
    }
   ],
   "source": [
    "from matplotlib.ticker import StrMethodFormatter\n",
    "fig, ax = plt.subplots(figsize=(6, 5))\n",
    "sns.lineplot(data=book_interaction[book_interaction.order_new <=100],\n",
    "             x=\"order_new\",\n",
    "             y=\"avg_rating\", errorbar=(\"se\", 2.576),err_style=\"bars\",\n",
    "              marker=\"o\",\n",
    "             dashes=True, color=sns.color_palette(\"flare\")[-1])\n",
    "\n",
    "\n",
    "ax.spines[['right', 'top']].set_visible(False)\n",
    "plt.xticks(fontsize=12)\n",
    "plt.yticks(fontsize=12)\n",
    "plt.gca().yaxis.set_major_formatter(StrMethodFormatter('{x:,.2f}'))\n",
    "plt.xlabel(\"Number of Books Read\", fontdict={'fontfamily': 'Arial', 'fontsize': 16})\n",
    "plt.ylabel(\"Average Rating\", fontdict={'fontfamily': 'Arial', 'fontsize': 16})"
   ]
  },
  {
   "cell_type": "code",
   "execution_count": 293,
   "id": "dc0c18ad-1c76-49fd-b438-3bf0c13af9c6",
   "metadata": {},
   "outputs": [
    {
     "name": "stdout",
     "output_type": "stream",
     "text": [
      "PearsonRResult(statistic=0.03412786418871174, pvalue=0.0)\n",
      "ConfidenceInterval(low=0.03234537478331954, high=0.035910136500891365)\n"
     ]
    }
   ],
   "source": [
    "r_res = pearsonr(book_interaction.order_new, book_interaction.avg_rating)\n",
    "print(r_res)\n",
    "print(r_res.confidence_interval(confidence_level=0.99))"
   ]
  },
  {
   "cell_type": "code",
   "execution_count": 42,
   "id": "a4c85ef0-6bb4-47fe-ae0e-2940f85eb529",
   "metadata": {},
   "outputs": [
    {
     "data": {
      "text/html": [
       "<svg  width=\"550\" height=\"55\"><rect x=\"0\" y=\"0\" width=\"55\" height=\"55\" style=\"fill:#e64b35;stroke-width:2;stroke:rgb(255,255,255)\"/><rect x=\"55\" y=\"0\" width=\"55\" height=\"55\" style=\"fill:#4dbbd5;stroke-width:2;stroke:rgb(255,255,255)\"/><rect x=\"110\" y=\"0\" width=\"55\" height=\"55\" style=\"fill:#00a087;stroke-width:2;stroke:rgb(255,255,255)\"/><rect x=\"165\" y=\"0\" width=\"55\" height=\"55\" style=\"fill:#3c5488;stroke-width:2;stroke:rgb(255,255,255)\"/><rect x=\"220\" y=\"0\" width=\"55\" height=\"55\" style=\"fill:#f39b7f;stroke-width:2;stroke:rgb(255,255,255)\"/><rect x=\"275\" y=\"0\" width=\"55\" height=\"55\" style=\"fill:#8491b4;stroke-width:2;stroke:rgb(255,255,255)\"/><rect x=\"330\" y=\"0\" width=\"55\" height=\"55\" style=\"fill:#91d1c2;stroke-width:2;stroke:rgb(255,255,255)\"/><rect x=\"385\" y=\"0\" width=\"55\" height=\"55\" style=\"fill:#dc0000;stroke-width:2;stroke:rgb(255,255,255)\"/><rect x=\"440\" y=\"0\" width=\"55\" height=\"55\" style=\"fill:#7e6148;stroke-width:2;stroke:rgb(255,255,255)\"/><rect x=\"495\" y=\"0\" width=\"55\" height=\"55\" style=\"fill:#b09c85;stroke-width:2;stroke:rgb(255,255,255)\"/></svg>"
      ],
      "text/plain": [
       "[(0.9019607843137255, 0.29411764705882354, 0.20784313725490197),\n",
       " (0.30196078431372547, 0.7333333333333333, 0.8352941176470589),\n",
       " (0.0, 0.6274509803921569, 0.5294117647058824),\n",
       " (0.23529411764705882, 0.32941176470588235, 0.5333333333333333),\n",
       " (0.9529411764705882, 0.6078431372549019, 0.4980392156862745),\n",
       " (0.5176470588235295, 0.5686274509803921, 0.7058823529411765),\n",
       " (0.5686274509803921, 0.8196078431372549, 0.7607843137254902),\n",
       " (0.8627450980392157, 0.0, 0.0),\n",
       " (0.49411764705882355, 0.3803921568627451, 0.2823529411764706),\n",
       " (0.6901960784313725, 0.611764705882353, 0.5215686274509804)]"
      ]
     },
     "execution_count": 42,
     "metadata": {},
     "output_type": "execute_result"
    }
   ],
   "source": [
    "sns.color_palette([\"#E64B35FF\", \"#4DBBD5FF\", \"#00A087FF\", \"#3C5488FF\", \"#F39B7FFF\", \"#8491B4FF\", \"#91D1C2FF\", \"#DC0000FF\", \"#7E6148FF\", \"#B09C85FF\"])"
   ]
  },
  {
   "cell_type": "code",
   "execution_count": 174,
   "id": "87cefe67-9723-4f5c-a00d-b31da912901f",
   "metadata": {},
   "outputs": [
    {
     "data": {
      "text/plain": [
       "Text(0, 0.5, 'Explore Distance')"
      ]
     },
     "execution_count": 174,
     "metadata": {},
     "output_type": "execute_result"
    },
    {
     "data": {
      "image/png": "[encoded data removed]",
      "text/plain": [
       "<Figure size 600x500 with 1 Axes>"
      ]
     },
     "metadata": {},
     "output_type": "display_data"
    }
   ],
   "source": [
    "from matplotlib.ticker import StrMethodFormatter\n",
    "fig, ax = plt.subplots(figsize=(6, 5))\n",
    "sns.lineplot(data=book_interaction[book_interaction.order_new <=100],\n",
    "             x=\"order_new\",\n",
    "             y=\"step_size_after\", errorbar=(\"se\",  2.576),err_style=\"bars\",\n",
    "             marker=\"o\",\n",
    "             dashes=True, color=sns.color_palette(\"flare\")[-1])\n",
    "\n",
    "\n",
    "ax.spines[['right', 'top']].set_visible(False)\n",
    "plt.xticks(fontsize=12)\n",
    "plt.yticks(fontsize=12)\n",
    "plt.gca().yaxis.set_major_formatter(StrMethodFormatter('{x:,.2f}'))\n",
    "plt.xlabel(\"Number of Books Read\", fontdict={'fontfamily': 'Arial', 'fontsize': 16})\n",
    "plt.ylabel(\"Explore Distance\", fontdict={'fontfamily': 'Arial', 'fontsize': 16})"
   ]
  },
  {
   "cell_type": "code",
   "execution_count": 160,
   "id": "b3ededcd-b15c-4914-ae6e-5e4bf10185d4",
   "metadata": {},
   "outputs": [
    {
     "name": "stdout",
     "output_type": "stream",
     "text": [
      "PearsonRResult(statistic=-0.005726425189030277, pvalue=3.5080840029645796e-15)\n",
      "ConfidenceInterval(low=-0.007600276552671614, high=-0.0038525336085966947)\n"
     ]
    }
   ],
   "source": [
    "r_res = pearsonr(book_interaction[~book_interaction.step_size_after.isna()].order_new, \n",
    "                 book_interaction[~book_interaction.step_size_after.isna()].step_size_after)\n",
    "print(r_res)\n",
    "print(r_res.confidence_interval(confidence_level=0.99))"
   ]
  },
  {
   "cell_type": "code",
   "execution_count": 216,
   "id": "8a364fc1-f8e2-4dbd-ba79-9d662de98813",
   "metadata": {},
   "outputs": [
    {
     "data": {
      "text/plain": [
       "Text(0, 0.5, 'Subsequent Explore Distance')"
      ]
     },
     "execution_count": 216,
     "metadata": {},
     "output_type": "execute_result"
    },
    {
     "data": {
      "image/png": "[encoded data removed]",
      "text/plain": [
       "<Figure size 600x500 with 1 Axes>"
      ]
     },
     "metadata": {},
     "output_type": "display_data"
    }
   ],
   "source": [
    "fig, ax = plt.subplots(figsize=(6, 5))\n",
    "\n",
    "sns.pointplot(data=book_interaction,\n",
    "             x=book_interaction.overall.astype(int), capsize=.3,\n",
    "             y=\"step_size_after\", \n",
    "             errorbar=(\"se\", 2.576),linestyle=\"--\",\n",
    "             markers=\"o\",  color=sns.color_palette(\"flare\")[-1])\n",
    "\n",
    "ax.spines[['right', 'top']].set_visible(False)\n",
    "\n",
    "plt.xticks(fontsize=12)\n",
    "plt.yticks(fontsize=12)\n",
    "plt.gca().yaxis.set_major_formatter(StrMethodFormatter('{x:,.2f}'))\n",
    "plt.xlabel(\"Book Enjoyment\", fontdict={'fontfamily': 'Arial', 'fontsize': 16})\n",
    "plt.ylabel(\"Subsequent Explore Distance\", fontdict={'fontfamily': 'Arial', 'fontsize': 16})"
   ]
  },
  {
   "cell_type": "code",
   "execution_count": 40,
   "id": "20691a2a-3145-472c-909f-78883c18c25c",
   "metadata": {},
   "outputs": [],
   "source": [
    "distance_distribution = pdist(book_embeddings[np.random.randint(book_embeddings.shape[0], size=10000),:])"
   ]
  },
  {
   "cell_type": "code",
   "execution_count": 41,
   "id": "f82e6113-80cd-4b84-a30a-4c05d0feaa91",
   "metadata": {},
   "outputs": [
    {
     "data": {
      "text/plain": [
       "1.3012932658730236"
      ]
     },
     "execution_count": 41,
     "metadata": {},
     "output_type": "execute_result"
    }
   ],
   "source": [
    "distance_distribution.mean()"
   ]
  },
  {
   "cell_type": "code",
   "execution_count": 42,
   "id": "08f28569-cee2-4546-9c1c-dcedf2a90dd7",
   "metadata": {},
   "outputs": [
    {
     "data": {
      "text/plain": [
       "0.09003578976083453"
      ]
     },
     "execution_count": 42,
     "metadata": {},
     "output_type": "execute_result"
    }
   ],
   "source": [
    "distance_distribution.std()"
   ]
  },
  {
   "cell_type": "code",
   "execution_count": 44,
   "id": "9417f2c8-315c-4000-9938-d954c84f1d21",
   "metadata": {},
   "outputs": [
    {
     "data": {
      "text/plain": [
       "(49995000,)"
      ]
     },
     "execution_count": 44,
     "metadata": {},
     "output_type": "execute_result"
    }
   ],
   "source": [
    "distance_distribution.shape"
   ]
  },
  {
   "cell_type": "code",
   "execution_count": 48,
   "id": "cf1ca299-12e6-48a2-b840-2b701b302f9e",
   "metadata": {},
   "outputs": [
    {
     "data": {
      "text/plain": [
       "(10000,)"
      ]
     },
     "execution_count": 48,
     "metadata": {},
     "output_type": "execute_result"
    }
   ],
   "source": [
    "distance_distribution[np.random.randint(distance_distribution.shape[0], size=10000)].shape"
   ]
  },
  {
   "cell_type": "code",
   "execution_count": 94,
   "id": "f065423e-2b88-40c6-812b-50b372f8341c",
   "metadata": {},
   "outputs": [
    {
     "data": {
      "text/plain": [
       "1.1695977361713272"
      ]
     },
     "execution_count": 94,
     "metadata": {},
     "output_type": "execute_result"
    }
   ],
   "source": [
    "book_interaction.step_size_after.mean()"
   ]
  },
  {
   "cell_type": "code",
   "execution_count": null,
   "id": "aefb2a5f-0fcb-4e98-b0e9-4ce558f82a9e",
   "metadata": {},
   "outputs": [],
   "source": [
    "np.random.seed(123)"
   ]
  },
  {
   "cell_type": "code",
   "execution_count": 115,
   "id": "47a25d97-afd6-4bb8-88d6-b06dddaccc3e",
   "metadata": {},
   "outputs": [],
   "source": [
    "mu1 = distance_distribution[np.random.randint(distance_distribution.shape[0], size=100000)].mean()\n",
    "std1 = distance_distribution[np.random.randint(distance_distribution.shape[0], size=100000)].std()\n",
    "se1 = std1/np.sqrt(49995000**2/2)"
   ]
  },
  {
   "cell_type": "code",
   "execution_count": 118,
   "id": "5c38cf8f-4c37-43ca-a4db-428ebcaad359",
   "metadata": {},
   "outputs": [
    {
     "data": {
      "text/plain": [
       "2.5516649319104585e-09"
      ]
     },
     "execution_count": 118,
     "metadata": {},
     "output_type": "execute_result"
    }
   ],
   "source": [
    "se1"
   ]
  },
  {
   "cell_type": "code",
   "execution_count": 111,
   "id": "29e100ce-5b1e-4fa9-9d60-a10e949f29cd",
   "metadata": {},
   "outputs": [],
   "source": [
    "mu2 = book_interaction.step_size_after.mean()\n",
    "std2 = book_interaction.step_size_after.std()\n",
    "se2 = std2/np.sqrt(book_interaction.shape[0])"
   ]
  },
  {
   "cell_type": "code",
   "execution_count": 109,
   "id": "cb431e0f-4a65-4427-be1d-6b8504e79d72",
   "metadata": {},
   "outputs": [
    {
     "data": {
      "text/plain": [
       "(1921256, 30)"
      ]
     },
     "execution_count": 109,
     "metadata": {},
     "output_type": "execute_result"
    }
   ],
   "source": [
    "book_interaction.shape"
   ]
  },
  {
   "cell_type": "code",
   "execution_count": 116,
   "id": "b70b4195-2db9-4cf0-b44e-cc4a787bc96f",
   "metadata": {},
   "outputs": [],
   "source": [
    "z = (mu2 - mu1)/np.sqrt(se2**2 + se1**2)"
   ]
  },
  {
   "cell_type": "code",
   "execution_count": 117,
   "id": "8cd7181d-b783-4e2e-9503-62527fd2e676",
   "metadata": {},
   "outputs": [
    {
     "data": {
      "text/plain": [
       "-1172.3405095391975"
      ]
     },
     "execution_count": 117,
     "metadata": {},
     "output_type": "execute_result"
    }
   ],
   "source": [
    "z"
   ]
  },
  {
   "cell_type": "code",
   "execution_count": 86,
   "id": "c33fe8d2-7793-4f37-abf1-b6713283ddf7",
   "metadata": {},
   "outputs": [
    {
     "data": {
      "text/plain": [
       "Text(0, 0.5, 'Probability Density')"
      ]
     },
     "execution_count": 86,
     "metadata": {},
     "output_type": "execute_result"
    },
    {
     "data": {
      "image/png": "[encoded data removed]",
      "text/plain": [
       "<Figure size 600x550 with 1 Axes>"
      ]
     },
     "metadata": {},
     "output_type": "display_data"
    }
   ],
   "source": [
    "fig, ax = plt.subplots(figsize=(6, 5.5))\n",
    "\n",
    "sns.kdeplot(book_interaction.step_size_after.sample(10000), color=\"black\", cut=0)\n",
    "sns.kdeplot(distance_distribution[np.random.randint(distance_distribution.shape[0], size=10000)], \n",
    "            color=\"red\", \n",
    "            linestyle=\":\", cut=0)\n",
    "\n",
    "plt.xlim(0.4, 1.6)\n",
    "\n",
    "ax.spines[['right', 'top']].set_visible(False)\n",
    "plt.xticks(fontsize=12)\n",
    "plt.yticks(fontsize=12)\n",
    "plt.xlabel(\"Explore Distance\", fontdict={'fontfamily': 'Arial', 'fontsize': 16})\n",
    "plt.ylabel(\"Probability Density\", fontdict={'fontfamily': 'Arial', 'fontsize': 16})"
   ]
  },
  {
   "cell_type": "code",
   "execution_count": 168,
   "id": "e42c5112-2b75-47d5-837b-ddeb3892f58e",
   "metadata": {},
   "outputs": [],
   "source": [
    "book_interaction.to_csv(\"s1_stats_test_final.csv\") # save data for mixed effect modeling in R"
   ]
  },
  {
   "cell_type": "code",
   "execution_count": 65,
   "id": "f7ceefa4",
   "metadata": {},
   "outputs": [],
   "source": [
    "book_interaction.dropna(subset = ['overall'], inplace=True)"
   ]
  },
  {
   "cell_type": "code",
   "execution_count": 66,
   "id": "977f7571",
   "metadata": {},
   "outputs": [],
   "source": [
    "book_interaction = book_interaction.reset_index(drop=True)"
   ]
  },
  {
   "cell_type": "code",
   "execution_count": 175,
   "id": "e8d3d79e-60a0-4845-b4c6-4b273f3c6dac",
   "metadata": {},
   "outputs": [
    {
     "name": "stdout",
     "output_type": "stream",
     "text": [
      "PearsonRResult(statistic=-0.041748474944075575, pvalue=0.0)\n",
      "ConfidenceInterval(low=-0.043658558922128055, high=-0.03983808575337106)\n"
     ]
    }
   ],
   "source": [
    "r_res = pearsonr(book_interaction[~book_interaction.step_size_before.isna() & (book_interaction.review_count_log > 0)].review_count_log, \n",
    "                 book_interaction[~book_interaction.step_size_before.isna() & (book_interaction.review_count_log > 0)].step_size_before)\n",
    "print(r_res)\n",
    "print(r_res.confidence_interval(confidence_level=0.99))"
   ]
  },
  {
   "cell_type": "code",
   "execution_count": 125,
   "id": "8f1e404a-5303-48da-8c55-79fb7dbdbe4e",
   "metadata": {},
   "outputs": [
    {
     "data": {
      "text/plain": [
       "Text(0, 0.5, 'Explore Distance')"
      ]
     },
     "execution_count": 125,
     "metadata": {},
     "output_type": "execute_result"
    },
    {
     "data": {
      "image/png": "[encoded data removed]",
      "text/plain": [
       "<Figure size 640x480 with 1 Axes>"
      ]
     },
     "metadata": {},
     "output_type": "display_data"
    }
   ],
   "source": [
    "# sns.set_style(\"white\")\n",
    "sns.kdeplot(x=book_interaction.sample(10000, random_state=123).rating_dispersion,\n",
    "            y=book_interaction.sample(10000, random_state=123).step_size_before, \n",
    "            cmap=sns.cubehelix_palette(as_cmap=True),\n",
    "            fill=True, bw_adjust=0.5)\n",
    "\n",
    "sns.regplot(data=book_interaction,\n",
    "           x=\"rating_dispersion\",\n",
    "             y=\"step_size_before\",\n",
    "            color=sns.color_palette(\"flare\")[-1],\n",
    "            ci=99, scatter=False)\n",
    "\n",
    "plt.ylim(0.6, 1.5)\n",
    "plt.xlim(0, 2)\n",
    "\n",
    "sns.despine()\n",
    "# ax.set_xticks([1, 2, 3, 4, 5])\n",
    "plt.xticks(fontsize=12)\n",
    "plt.yticks(fontsize=12)\n",
    "plt.gca().yaxis.set_major_formatter(StrMethodFormatter('{x:,.2f}'))\n",
    "# plt.gca().xaxis.set_major_formatter(StrMethodFormatter('{x:,.0f}'))\n",
    "plt.xlabel(\"Variance of Ratings\", fontdict={'fontfamily': 'Arial', 'fontsize': 16})\n",
    "plt.ylabel(\"Explore Distance\", fontdict={'fontfamily': 'Arial', 'fontsize': 16})\n"
   ]
  },
  {
   "cell_type": "code",
   "execution_count": 180,
   "id": "4b40ed7f-6ae6-440a-a544-86e0e76c7cca",
   "metadata": {},
   "outputs": [
    {
     "name": "stdout",
     "output_type": "stream",
     "text": [
      "PearsonRResult(statistic=0.07601366266794346, pvalue=0.0)\n",
      "ConfidenceInterval(low=0.0741108692782647, high=0.07791590258614513)\n"
     ]
    }
   ],
   "source": [
    "r_res = pearsonr(book_interaction[book_interaction.review_count_log > 0][[\"rating_dispersion\", \"step_size_before\"]].dropna().rating_dispersion, \n",
    "                 book_interaction[book_interaction.review_count_log > 0][[\"rating_dispersion\", \"step_size_before\"]].dropna().step_size_before)\n",
    "print(r_res)\n",
    "print(r_res.confidence_interval(confidence_level=0.99))"
   ]
  },
  {
   "cell_type": "markdown",
   "id": "0f47e49f-6572-444e-81a6-dc8db5123315",
   "metadata": {},
   "source": [
    "# Computational modeling"
   ]
  },
  {
   "cell_type": "code",
   "execution_count": 94,
   "id": "f3e96729-6477-4b25-b87c-e78072d9cf12",
   "metadata": {},
   "outputs": [
    {
     "name": "stderr",
     "output_type": "stream",
     "text": [
      "100%|████████████████████████████████████| 31848/31848 [01:20<00:00, 394.26it/s]\n"
     ]
    }
   ],
   "source": [
    "df_list = []\n",
    "\n",
    "for name, group in tqdm(book_interaction.groupby('reviewerID')):\n",
    "    user = group[\"reviewerID\"]\n",
    "    embedding = np.array(group[\"embedding\"].tolist())\n",
    "    step_sizes = get_point_to_set_distance_eucliean(embedding)\n",
    "    rating = np.array(group[\"overall\"].tolist())\n",
    "\n",
    "    \n",
    "    rating_new = rating - group[\"overall\"].mean()\n",
    "    avg_rating = np.array(group[\"avg_rating\"].tolist())\n",
    "    rating_dispersion = np.array(group[\"rating_dispersion\"].tolist())\n",
    "    review_count = np.array(group[\"review_count\"].tolist())\n",
    "    \n",
    "    learning_rate = pearsonr(group.overall, group.order_new)[0]\n",
    "\n",
    "    record = {\"user\": user.unique()[0],\n",
    "              \"improving_rate\": pearsonr(group.overall, group.order_new)[0],\n",
    "             \"books\": embedding,\n",
    "             \"rating\": rating,\n",
    "              \"rating_new\": rating_new,\n",
    "             \"avg_rating\": avg_rating,\n",
    "             \"rating_dispersion\": rating_dispersion,\n",
    "              \"review_count\": review_count,\n",
    "              \"step_sizes\": step_sizes, \n",
    "             \"learning_rate\": learning_rate}\n",
    "    if (~np.isnan(rating)).all() and ~(np.var(rating) == 0):\n",
    "        df_list.append(record)"
   ]
  },
  {
   "cell_type": "code",
   "execution_count": 95,
   "id": "94ee9052-3389-478d-85f4-054087715cd0",
   "metadata": {},
   "outputs": [],
   "source": [
    "mean_book_embedding = np.array(book_description.embedding.tolist()).mean(axis=0)"
   ]
  },
  {
   "cell_type": "code",
   "execution_count": 100,
   "id": "3ccfb306-8fa8-4548-a0ba-8cb572fc0c33",
   "metadata": {},
   "outputs": [],
   "source": [
    "# input embeddings\n",
    "# input ratings\n",
    "# output m_vec and v_vec\n",
    "from sklearn.metrics.pairwise import euclidean_distances\n",
    "from numpy import linalg\n",
    "\n",
    "starting_index = 1\n",
    "def get_null_log_likelihood(book_embedding, compare_book_embedding):\n",
    "    \"\"\"\n",
    "    Get the null log_likelihood of the models in the leave-out-out prediction\n",
    "    Output: sum of null log likelihood\n",
    "    \"\"\"\n",
    "    \n",
    "    ll_null = 0\n",
    "    \n",
    "    for i in range(starting_index, book_embedding.shape[0]-1):\n",
    "    \n",
    "        ll = np.log(1/(1+compare_book_embedding.shape[0]))\n",
    "        ll_null = ll_null - ll\n",
    "        \n",
    "    return ll_null\n",
    "    \n",
    "\n",
    "def model_guassian_log_likelihood(X, rating, l2_matrix):\n",
    "    \"\"\"\n",
    "    Estimate the model and get the log_likelihood using leave-one-out CV\n",
    "    Compare the choice with random sampled books\n",
    "    Input X: X[0] == gamma, X[1] == eta, X[3] == beta (only for ucb)\n",
    "    Output: loss log likelihood\n",
    "    \"\"\"\n",
    "    \n",
    "    gamma = X[0]\n",
    "    eta = X[1]\n",
    "    compare_set_length = l2_matrix.shape[0]-rating.shape[0]\n",
    "    last_index = [i for i in np.arange(-compare_set_length ,0)]\n",
    "\n",
    "    rating_new = np.array(rating) - np.mean(rating)\n",
    "\n",
    "    K_matrix = np.exp(-l2_matrix**2/gamma)\n",
    "    \n",
    "    sigma_square = 1\n",
    "    ll_sum = 0\n",
    "    for i in range(starting_index, K_matrix.shape[0]-compare_set_length-1):\n",
    "        testing_index = [i+1]+last_index\n",
    "        k_matrix = K_matrix[:(i+1),:(i+1)]\n",
    "        k_inv = linalg.inv(k_matrix + np.eye(k_matrix.shape[0]) * sigma_square)\n",
    "        k_vec = K_matrix[:(i+1),[i+1]+last_index] \n",
    "        m_vec = k_vec.T.dot(k_inv).dot(rating_new[:(i+1)])\n",
    "        v_vec = K_matrix.diagonal()[[i+1]+last_index] - k_vec.T.dot(k_inv).dot(k_vec).diagonal()\n",
    "        \n",
    "        q = m_vec\n",
    "        p = np.exp(q*eta)/np.sum(np.exp(q*eta))\n",
    "    \n",
    "        ll = np.log(p[0])\n",
    "        ll_sum = ll_sum - ll\n",
    "        \n",
    "    return ll_sum\n",
    "\n",
    "\n",
    "def model_ucb_log_likelihood(X, rating, l2_matrix):\n",
    "    \"\"\"\n",
    "    Estimate the model and get the log_likelihood using leave-one-out CV\n",
    "    Compare the choice with random sampled books\n",
    "    Input X: X[0] == gamma, X[1] == eta, X[3] == beta (only for ucb)\n",
    "    Output: loss log likelihood\n",
    "    \"\"\"\n",
    "    \n",
    "    gamma = X[0]\n",
    "    eta = X[1]\n",
    "    beta = X[2]\n",
    "\n",
    "    rating_new = np.array(rating) - np.mean(rating)\n",
    "\n",
    "    compare_set_length = l2_matrix.shape[0]-rating.shape[0]\n",
    "    last_index = [i for i in np.arange(-compare_set_length ,0)]\n",
    "    \n",
    "    K_matrix = np.exp(-l2_matrix**2/gamma)\n",
    "\n",
    "    sigma_square = 1\n",
    "    ll_sum = 0\n",
    "    for i in range(starting_index, K_matrix.shape[0]-compare_set_length-1):\n",
    "        testing_index = [i+1]+last_index\n",
    "        k_matrix = K_matrix[:(i+1),:(i+1)]\n",
    "        k_inv = linalg.inv(k_matrix + np.eye(k_matrix.shape[0]) * sigma_square)\n",
    "        k_vec = K_matrix[:(i+1),[i+1]+last_index] \n",
    "        m_vec = k_vec.T.dot(k_inv).dot(rating_new[:(i+1)])\n",
    "        v_vec = K_matrix.diagonal()[[i+1]+last_index] - k_vec.T.dot(k_inv).dot(k_vec).diagonal()\n",
    "        \n",
    "        q = m_vec + beta * np.sqrt(v_vec)\n",
    "        p = np.exp(q*eta)/np.sum(np.exp(q*eta))\n",
    "    \n",
    "        ll = np.log(p[0])\n",
    "        ll_sum = ll_sum - ll\n",
    "        \n",
    "    return ll_sum"
   ]
  },
  {
   "cell_type": "code",
   "execution_count": 186,
   "id": "203d10b2-d15d-4568-9ccd-f6ff29a14680",
   "metadata": {},
   "outputs": [
    {
     "name": "stderr",
     "output_type": "stream",
     "text": [
      "100%|██████████████████████████████████████████████████████████████████████████████████████████████████████████████████████████| 31848/31848 [13:29<00:00, 39.36it/s]"
     ]
    },
    {
     "name": "stdout",
     "output_type": "stream",
     "text": [
      "0.014965416159617329\n",
      "0.10741325909321067\n"
     ]
    },
    {
     "name": "stderr",
     "output_type": "stream",
     "text": [
      "\n"
     ]
    }
   ],
   "source": [
    "x0_guassian = (0.5, 1)\n",
    "x0_ucb = (0.5, 1, 1)\n",
    "\n",
    "ll_guassian_list = []\n",
    "ll_ucb_list = []\n",
    "ll_null_list = []\n",
    "\n",
    "for df in tqdm(df_list):\n",
    "\n",
    "    rating = df[\"rating\"]\n",
    "    rating_new = df[\"rating\"] - np.mean(df[\"rating\"])\n",
    "    book_embedding = df[\"books\"]\n",
    "\n",
    "    compare_book_embedding = mean_book_embedding.reshape(1,384)\n",
    "    \n",
    "    book_all_embedding = np.concatenate((book_embedding, compare_book_embedding), axis=0)\n",
    "    \n",
    "    l2_matrix = euclidean_distances(book_all_embedding)\n",
    "\n",
    "    ll_null = get_null_log_likelihood(book_embedding, compare_book_embedding)\n",
    "\n",
    "    ll_guassian = model_guassian_log_likelihood(x0_guassian, rating, l2_matrix)\n",
    "\n",
    "    ll_ucb = model_ucb_log_likelihood(x0_ucb, rating, l2_matrix)\n",
    "\n",
    "    ll_guassian_list.append(ll_guassian)\n",
    "    \n",
    "    ll_ucb_list.append(ll_ucb)\n",
    "    \n",
    "    ll_null_list.append(ll_null)\n",
    "\n",
    "print((1-np.array(ll_guassian_list)/np.array(ll_null_list)).mean())\n",
    "print((1-np.array(ll_ucb_list)/np.array(ll_null_list)).mean())"
   ]
  },
  {
   "cell_type": "code",
   "execution_count": 189,
   "id": "c17264f6-dab0-49d4-8750-f83d8af37473",
   "metadata": {},
   "outputs": [],
   "source": [
    "test_test = pd.DataFrame.from_records(df_list[:len(ll_null_list)])[[\"user\"]]\n",
    "\n",
    "test_test[\"r_squared_guassian\"] = (1-np.array(ll_guassian_list)/np.array(ll_null_list))\n",
    "test_test[\"r_squared_ucb\"] = (1-np.array(ll_ucb_list)/np.array(ll_null_list))"
   ]
  },
  {
   "cell_type": "code",
   "execution_count": 193,
   "id": "45147933-ad80-456f-8195-f5f1dbdbfff8",
   "metadata": {},
   "outputs": [],
   "source": [
    "from statsmodels.stats.weightstats import ztest\n",
    "import scipy"
   ]
  },
  {
   "cell_type": "code",
   "execution_count": 203,
   "id": "3b0db4e1-29b2-435b-8846-b4cea5407d47",
   "metadata": {},
   "outputs": [
    {
     "name": "stdout",
     "output_type": "stream",
     "text": [
      "(30.01075788679118, 7.103583871712196e-198)\n",
      "0.014965416159617329\n",
      "0.0004986683847196057\n",
      "0.016249900797731486\n",
      "0.01368093152150317\n"
     ]
    }
   ],
   "source": [
    "print(ztest(test_test[\"r_squared_guassian\"]))\n",
    "print(test_test[\"r_squared_guassian\"].mean())\n",
    "se = test_test[\"r_squared_guassian\"].std()/np.sqrt(test_test[\"r_squared_guassian\"].shape[0])\n",
    "print(se)\n",
    "critical_z_99 = scipy.stats.norm.ppf(1-.01/2) \n",
    "print(test_test[\"r_squared_guassian\"].mean() + critical_z_99 * se)\n",
    "print(test_test[\"r_squared_guassian\"].mean() - critical_z_99 * se)"
   ]
  },
  {
   "cell_type": "code",
   "execution_count": 205,
   "id": "27ec68c3-1038-46e9-a1a1-c892a1724086",
   "metadata": {},
   "outputs": [
    {
     "name": "stdout",
     "output_type": "stream",
     "text": [
      "(512.134483965098, 0.0)\n",
      "0.10741325909321067\n",
      "0.0004993018969064876\n",
      "0.10869937555057996\n",
      "0.10612714263584139\n"
     ]
    }
   ],
   "source": [
    "print(ztest(test_test[\"r_squared_ucb\"] - test_test[\"r_squared_guassian\"]))\n",
    "print(test_test[\"r_squared_ucb\"].mean())\n",
    "se = test_test[\"r_squared_ucb\"].std()/np.sqrt(test_test[\"r_squared_ucb\"].shape[0])\n",
    "print(se)\n",
    "critical_z_99 = scipy.stats.norm.ppf(1-.01/2) \n",
    "print(test_test[\"r_squared_ucb\"].mean() + critical_z_99 * se)\n",
    "print(test_test[\"r_squared_ucb\"].mean() - critical_z_99 * se)"
   ]
  },
  {
   "cell_type": "code",
   "execution_count": 282,
   "id": "a466e9f1-c542-44fc-8f22-ec16e3110079",
   "metadata": {},
   "outputs": [
    {
     "name": "stderr",
     "output_type": "stream",
     "text": [
      "/home/jasongong/anaconda3/envs/dissertation/lib/python3.11/site-packages/seaborn/_base.py:948: FutureWarning: When grouping with a length-1 list-like, you will need to pass a length-1 tuple to get_group in a future version of pandas. Pass `(name,)` instead of `name` to silence this warning.\n",
      "  data_subset = grouped_data.get_group(pd_key)\n",
      "/home/jasongong/anaconda3/envs/dissertation/lib/python3.11/site-packages/seaborn/_base.py:948: FutureWarning: When grouping with a length-1 list-like, you will need to pass a length-1 tuple to get_group in a future version of pandas. Pass `(name,)` instead of `name` to silence this warning.\n",
      "  data_subset = grouped_data.get_group(pd_key)\n"
     ]
    },
    {
     "data": {
      "text/plain": [
       "Text(0, 0.5, 'Predictive Accuracy')"
      ]
     },
     "execution_count": 282,
     "metadata": {},
     "output_type": "execute_result"
    },
    {
     "data": {
      "image/png": "[encoded data removed]",
      "text/plain": [
       "<Figure size 640x480 with 1 Axes>"
      ]
     },
     "metadata": {},
     "output_type": "display_data"
    }
   ],
   "source": [
    "from matplotlib.ticker import StrMethodFormatter\n",
    "sns.barplot((test_test.r_squared_guassian, test_test.r_squared_ucb), \n",
    "            palette = [sns.color_palette(\"flare\")[0], \n",
    "            sns.color_palette(\"flare\")[-1]], errorbar=('ci', 99), capsize=.1)\n",
    "\n",
    "\n",
    "sns.despine()\n",
    "plt.xticks([0, 1], ['GP', 'UCB'], fontsize=12)\n",
    "plt.yticks(fontsize=12)\n",
    "plt.gca().yaxis.set_major_formatter(StrMethodFormatter('{x:,.3f}'))\n",
    "plt.xlabel(\"Models\", fontdict={'fontfamily': 'Arial', 'fontsize': 16})\n",
    "plt.ylabel(\"Predictive Accuracy\", fontdict={'fontfamily': 'Arial', 'fontsize': 16})"
   ]
  },
  {
   "cell_type": "code",
   "execution_count": null,
   "id": "767a8b59-a6f1-4ed4-98de-a2195f67869e",
   "metadata": {},
   "outputs": [],
   "source": []
  },
  {
   "cell_type": "code",
   "execution_count": null,
   "id": "565d859a-6abb-4ef5-93ea-febdf4ca30cd",
   "metadata": {},
   "outputs": [],
   "source": []
  },
  {
   "cell_type": "code",
   "execution_count": null,
   "id": "c6d6e107-7d4b-46fc-9322-465bc0330020",
   "metadata": {},
   "outputs": [],
   "source": []
  }
 ],
 "metadata": {
  "kernelspec": {
   "display_name": "Python 3 (ipykernel)",
   "language": "python",
   "name": "python3"
  },
  "language_info": {
   "codemirror_mode": {
    "name": "ipython",
    "version": 3
   },
   "file_extension": ".py",
   "mimetype": "text/x-python",
   "name": "python",
   "nbconvert_exporter": "python",
   "pygments_lexer": "ipython3",
   "version": "3.11.6"
  }
 },
 "nbformat": 4,
 "nbformat_minor": 5
}
