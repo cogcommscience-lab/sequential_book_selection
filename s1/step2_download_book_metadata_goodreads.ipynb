{
 "cells": [
  {
   "cell_type": "code",
   "execution_count": null,
   "id": "e634c446-7649-4be9-a58c-6dd8e7c4da7c",
   "metadata": {},
   "outputs": [],
   "source": [
    "import numpy as np\n",
    "import pandas as pd\n",
    "from tqdm import tqdm\n",
    "import time\n",
    "import json\n",
    "from scrape_goodreads import *"
   ]
  },
  {
   "cell_type": "code",
   "execution_count": null,
   "id": "c45adee7-ff8c-45b5-bd38-8a244f2277c0",
   "metadata": {},
   "outputs": [],
   "source": [
    "all_isbn = np.load(\"book_asin_filter.npy\",allow_pickle=True).tolist()"
   ]
  },
  {
   "cell_type": "code",
   "execution_count": null,
   "id": "578f307b-1c5b-49b7-9e25-74ddb2dca412",
   "metadata": {},
   "outputs": [],
   "source": [
    "to_download = all_isbn\n",
    "to_download = np.array(to_download)\n",
    "to_download.sort()"
   ]
  },
  {
   "cell_type": "code",
   "execution_count": null,
   "id": "03945d05-31a0-4e86-8856-67b27f8dd456",
   "metadata": {},
   "outputs": [],
   "source": [
    "def get_record_from_isbn(isbn):\n",
    "    \n",
    "    data = {}\n",
    "        \n",
    "    try:\n",
    "        book_url = get_page(\"https://www.goodreads.com/book/isbn/{}\".format(isbn), data)\n",
    "\n",
    "        soup = bs(book_url.text, 'html.parser')\n",
    "        record = get_record(soup)\n",
    "        record[\"isbn\"] = isbn\n",
    "        time.sleep(1)\n",
    "        \n",
    "    except:\n",
    "        record = {}\n",
    "        record[\"isbn\"] = isbn\n",
    "        \n",
    "    return record"
   ]
  },
  {
   "cell_type": "code",
   "execution_count": null,
   "id": "47558c0d-c820-461e-90a9-05f400b8f374",
   "metadata": {},
   "outputs": [],
   "source": [
    "from pqdm.processes import pqdm"
   ]
  },
  {
   "cell_type": "code",
   "execution_count": null,
   "id": "79f13b21-c757-4ddc-816b-986215eb3bd3",
   "metadata": {},
   "outputs": [],
   "source": [
    "# Parallelization\n",
    "records = pqdm(to_download, get_record_from_isbn, n_jobs=16)"
   ]
  }
 ],
 "metadata": {
  "kernelspec": {
   "display_name": "Python 3 (ipykernel)",
   "language": "python",
   "name": "python3"
  },
  "language_info": {
   "codemirror_mode": {
    "name": "ipython",
    "version": 3
   },
   "file_extension": ".py",
   "mimetype": "text/x-python",
   "name": "python",
   "nbconvert_exporter": "python",
   "pygments_lexer": "ipython3",
   "version": "3.11.7"
  }
 },
 "nbformat": 4,
 "nbformat_minor": 5
}
