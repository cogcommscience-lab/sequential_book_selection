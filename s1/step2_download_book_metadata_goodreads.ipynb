{
 "cells": [
  {
   "cell_type": "code",
   "execution_count": 33,
   "id": "e634c446-7649-4be9-a58c-6dd8e7c4da7c",
   "metadata": {},
   "outputs": [],
   "source": [
    "import numpy as np\n",
    "import pandas as pd\n",
    "from tqdm import tqdm\n",
    "import time\n",
    "import json\n",
    "from goodreads_scrapper import *"
   ]
  },
  {
   "cell_type": "code",
   "execution_count": 3,
   "id": "c45adee7-ff8c-45b5-bd38-8a244f2277c0",
   "metadata": {},
   "outputs": [],
   "source": [
    "all_isbn = np.load(\"book_asin_filter.npy\",allow_pickle=True).tolist()"
   ]
  },
  {
   "cell_type": "code",
   "execution_count": 118,
   "id": "578f307b-1c5b-49b7-9e25-74ddb2dca412",
   "metadata": {},
   "outputs": [],
   "source": [
    "to_download = all_isbn\n",
    "to_download = np.array(to_download)\n",
    "to_download.sort()"
   ]
  },
  {
   "cell_type": "code",
   "execution_count": 221,
   "id": "03945d05-31a0-4e86-8856-67b27f8dd456",
   "metadata": {},
   "outputs": [],
   "source": [
    "def get_record_from_isbn(isbn):\n",
    "    \n",
    "    data = {'q': isbn}\n",
    "        \n",
    "    try:\n",
    "        book_url = get_page(\"https://www.goodreads.com/search\", data)\n",
    "\n",
    "        soup = bs(book_url.text, 'html.parser')\n",
    "        record = get_record(soup)\n",
    "        record[\"isbn\"] = isbn\n",
    "\n",
    "        time.sleep(1)\n",
    "\n",
    "    # if searching for isbn is not successful, then search by book title\n",
    "    except:\n",
    "        try:\n",
    "            book_url = get_page(\"https://www.goodreads.com/search\", data)\n",
    "            soup = bs(book_url.text, 'html.parser')\n",
    "            url_new = 'https://www.goodreads.com' + soup.find_all('a', class_=\"bookTitle\", href=True)[0]['href']\n",
    "            headers = Headers().generate()\n",
    "            time.sleep(1)\n",
    "            book_url_new = requests.get(url_new, headers=headers, timeout=20)\n",
    "            soup_new = bs(book_url_new.text, 'html.parser')\n",
    "            \n",
    "            record = get_record(soup_new)\n",
    "            record[\"isbn\"] = isbn\n",
    "            record[\"asin\"] = True \n",
    "            time.sleep(1)\n",
    "            \n",
    "        except:\n",
    "            \n",
    "            record = {}\n",
    "            record[\"isbn\"] = isbn\n",
    "            \n",
    "    return record"
   ]
  },
  {
   "cell_type": "code",
   "execution_count": 136,
   "id": "47558c0d-c820-461e-90a9-05f400b8f374",
   "metadata": {},
   "outputs": [],
   "source": [
    "from pqdm.processes import pqdm"
   ]
  },
  {
   "cell_type": "code",
   "execution_count": 137,
   "id": "79f13b21-c757-4ddc-816b-986215eb3bd3",
   "metadata": {},
   "outputs": [
    {
     "data": {
      "application/vnd.jupyter.widget-view+json": {
       "model_id": "96638f6043714e76a69268186492c101",
       "version_major": 2,
       "version_minor": 0
      },
      "text/plain": [
       "QUEUEING TASKS | :   0%|          | 0/146723 [00:00<?, ?it/s]"
      ]
     },
     "metadata": {},
     "output_type": "display_data"
    },
    {
     "data": {
      "application/vnd.jupyter.widget-view+json": {
       "model_id": "c82e8cae3de5415cb4e2e861be8900d3",
       "version_major": 2,
       "version_minor": 0
      },
      "text/plain": [
       "PROCESSING TASKS | :   0%|          | 0/146723 [00:00<?, ?it/s]"
      ]
     },
     "metadata": {},
     "output_type": "display_data"
    },
    {
     "name": "stderr",
     "output_type": "stream",
     "text": [
      "IOPub message rate exceeded.\n",
      "The Jupyter server will temporarily stop sending output\n",
      "to the client in order to avoid crashing it.\n",
      "To change this limit, set the config variable\n",
      "`--ServerApp.iopub_msg_rate_limit`.\n",
      "\n",
      "Current values:\n",
      "ServerApp.iopub_msg_rate_limit=1000.0 (msgs/sec)\n",
      "ServerApp.rate_limit_window=3.0 (secs)\n",
      "\n"
     ]
    }
   ],
   "source": [
    "# Parallelization\n",
    "records = pqdm(to_download, get_record_from_isbn, n_jobs=16)"
   ]
  }
 ],
 "metadata": {
  "kernelspec": {
   "display_name": "Python 3 (ipykernel)",
   "language": "python",
   "name": "python3"
  },
  "language_info": {
   "codemirror_mode": {
    "name": "ipython",
    "version": 3
   },
   "file_extension": ".py",
   "mimetype": "text/x-python",
   "name": "python",
   "nbconvert_exporter": "python",
   "pygments_lexer": "ipython3",
   "version": "3.11.6"
  }
 },
 "nbformat": 4,
 "nbformat_minor": 5
}
