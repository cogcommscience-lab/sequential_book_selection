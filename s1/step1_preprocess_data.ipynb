{
 "cells": [
  {
   "cell_type": "code",
   "execution_count": 1,
   "id": "efdcb75f",
   "metadata": {},
   "outputs": [],
   "source": [
    "import pandas as pd\n",
    "from tqdm import tqdm\n",
    "from matplotlib import pyplot as plt\n",
    "import numpy as np\n",
    "import gzip\n",
    "import json\n",
    "import seaborn as sns"
   ]
  },
  {
   "cell_type": "code",
   "execution_count": 3,
   "id": "55d198d3",
   "metadata": {},
   "outputs": [],
   "source": [
    "filename = '/data/amazon/Books.json.gz'  "
   ]
  },
  {
   "cell_type": "code",
   "execution_count": 5,
   "id": "aeef9cac",
   "metadata": {},
   "outputs": [],
   "source": [
    "book_interaction = []\n",
    "with gzip.open(filename , 'rb') as gzip_file:\n",
    "    for line in gzip_file:  # Read one line.\n",
    "        line = line.rstrip()\n",
    "        if line:  # Any JSON data on it?\n",
    "            obj = json.loads(line)\n",
    "            book_interaction.append({key: obj[key] for key in [\"overall\", \"reviewerID\", \"unixReviewTime\", \"asin\"]})\n",
    "            \n",
    "            \n",
    "book_interaction = pd.DataFrame(book_interaction)\n",
    "book_interaction = book_interaction[~book_interaction[\"overall\"].isna()]"
   ]
  },
  {
   "cell_type": "code",
   "execution_count": 6,
   "id": "afff56a4",
   "metadata": {},
   "outputs": [],
   "source": [
    "user_counts = book_interaction[\"reviewerID\"].value_counts()\n",
    "users = list(user_counts[(user_counts >= 30) & (user_counts <= 300)].index) # filter out users who read more than 300 or less than 30 books\n",
    "book_interaction = book_interaction[book_interaction[\"reviewerID\"].isin(users)]"
   ]
  },
  {
   "cell_type": "code",
   "execution_count": 7,
   "id": "d346a2b1",
   "metadata": {},
   "outputs": [
    {
     "data": {
      "text/plain": [
       "156879"
      ]
     },
     "execution_count": 7,
     "metadata": {},
     "output_type": "execute_result"
    }
   ],
   "source": [
    "len(list(user_counts[(user_counts >= 30) & (user_counts <= 300)].index))"
   ]
  },
  {
   "cell_type": "code",
   "execution_count": 8,
   "id": "e7a47fc4",
   "metadata": {},
   "outputs": [
    {
     "data": {
      "text/plain": [
       "156879"
      ]
     },
     "execution_count": 8,
     "metadata": {},
     "output_type": "execute_result"
    }
   ],
   "source": [
    "len(users)"
   ]
  },
  {
   "cell_type": "code",
   "execution_count": 9,
   "id": "87d48e29",
   "metadata": {},
   "outputs": [],
   "source": [
    "book_interaction = book_interaction.sort_values([\"reviewerID\", \"unixReviewTime\"])\n",
    "book_interaction[\"date\"] = pd.to_datetime(book_interaction.unixReviewTime, unit=\"s\")"
   ]
  },
  {
   "cell_type": "code",
   "execution_count": 11,
   "id": "7a5ce786",
   "metadata": {},
   "outputs": [],
   "source": [
    "unique_date_test = book_interaction.groupby([\"reviewerID\"]).date.value_counts()\n",
    "unique_date_test = pd.DataFrame(unique_date_test)\n",
    "unique_date_test.columns = [\"count\"]\n",
    "unique_date_test = unique_date_test.reset_index()\n",
    "unique_date_test = unique_date_test.groupby(\"reviewerID\").size().reset_index()\n",
    "date_test = book_interaction.groupby([\"reviewerID\"]).size().reset_index()\n",
    "unique_date_test.columns = ['reviewerID', \"unique\"]\n",
    "date_test.columns = ['reviewerID', \"all\"]\n",
    "unique_date_test= unique_date_test.merge(date_test, how=\"left\", on=\"reviewerID\")\n",
    "unique_date_test[\"percentage\"] = unique_date_test[\"unique\"]/unique_date_test[\"all\"]"
   ]
  },
  {
   "cell_type": "code",
   "execution_count": 13,
   "id": "d4709ef9",
   "metadata": {},
   "outputs": [],
   "source": [
    "unique_date_user = unique_date_test[unique_date_test.percentage >= 0.9].reviewerID.tolist() # filter out users whose 10% books are read at the same day"
   ]
  },
  {
   "cell_type": "code",
   "execution_count": 14,
   "id": "11e7aa08",
   "metadata": {},
   "outputs": [],
   "source": [
    "book_interaction_filter = book_interaction[book_interaction[\"reviewerID\"].isin(unique_date_user)]"
   ]
  },
  {
   "cell_type": "code",
   "execution_count": 16,
   "id": "92febd41",
   "metadata": {},
   "outputs": [
    {
     "name": "stderr",
     "output_type": "stream",
     "text": [
      "/tmp/ipykernel_925649/1072133118.py:2: SettingWithCopyWarning: \n",
      "A value is trying to be set on a copy of a slice from a DataFrame.\n",
      "Try using .loc[row_indexer,col_indexer] = value instead\n",
      "\n",
      "See the caveats in the documentation: https://pandas.pydata.org/pandas-docs/stable/user_guide/indexing.html#returning-a-view-versus-a-copy\n",
      "  book_interaction_filter['order'] = gr.cumcount()\n"
     ]
    }
   ],
   "source": [
    "gr = book_interaction_filter.sort_values('unixReviewTime').groupby('reviewerID')\n",
    "book_interaction_filter['order'] = gr.cumcount()"
   ]
  },
  {
   "cell_type": "code",
   "execution_count": 20,
   "id": "a508c3b2",
   "metadata": {},
   "outputs": [],
   "source": [
    "book_interaction_filter.to_csv(\"book_interaction_filter.csv\") # save data file"
   ]
  },
  {
   "cell_type": "code",
   "execution_count": 12,
   "id": "22e80177-dfe3-4ddd-ba35-6ff7e82f77ff",
   "metadata": {},
   "outputs": [],
   "source": [
    "book_interaction_filter = pd.read_csv(\"book_interaction_filter.csv\")"
   ]
  },
  {
   "cell_type": "code",
   "execution_count": 13,
   "id": "b24d10d4",
   "metadata": {},
   "outputs": [],
   "source": [
    "book_asins = book_interaction_filter.asin.unique()"
   ]
  },
  {
   "cell_type": "code",
   "execution_count": 16,
   "id": "9d9692f2",
   "metadata": {},
   "outputs": [],
   "source": [
    "np.save(\"book_asin_filter.npy\", book_asins) # save book ids "
   ]
  },
  {
   "cell_type": "code",
   "execution_count": null,
   "id": "4fd919b0-5891-4e66-a983-315d0606e953",
   "metadata": {},
   "outputs": [],
   "source": []
  },
  {
   "cell_type": "code",
   "execution_count": null,
   "id": "f123c3e9-b4af-462c-b168-65c38ce39b5c",
   "metadata": {},
   "outputs": [],
   "source": []
  },
  {
   "cell_type": "code",
   "execution_count": null,
   "id": "182fa65d-78ab-47b1-a27c-0f65bd8feecc",
   "metadata": {},
   "outputs": [],
   "source": []
  }
 ],
 "metadata": {
  "kernelspec": {
   "display_name": "Python 3 (ipykernel)",
   "language": "python",
   "name": "python3"
  },
  "language_info": {
   "codemirror_mode": {
    "name": "ipython",
    "version": 3
   },
   "file_extension": ".py",
   "mimetype": "text/x-python",
   "name": "python",
   "nbconvert_exporter": "python",
   "pygments_lexer": "ipython3",
   "version": "3.11.6"
  }
 },
 "nbformat": 4,
 "nbformat_minor": 5
}
